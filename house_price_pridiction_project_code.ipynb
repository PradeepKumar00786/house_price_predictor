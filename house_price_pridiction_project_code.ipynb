{
 "cells": [
  {
   "cell_type": "markdown",
   "id": "29b1d192",
   "metadata": {},
   "source": [
    "## House price predicter"
   ]
  },
  {
   "cell_type": "markdown",
   "id": "ccc154d0",
   "metadata": {},
   "source": [
    "### Problem statement:\n",
    "The goal is to understand the relationship between house features and how these\n",
    "variables affect the house price.\n",
    "Using more than one model, predict the price of the house using the given dataset. Please compare the\n",
    "accuracy of the models along with the drawbacks of each technique's assumptions before recommending\n",
    "the final prediction model."
   ]
  },
  {
   "cell_type": "code",
   "execution_count": 1,
   "id": "21a08b63",
   "metadata": {},
   "outputs": [],
   "source": [
    "#importing libery\n",
    "import pandas as pd\n",
    "import numpy as np"
   ]
  },
  {
   "cell_type": "code",
   "execution_count": 2,
   "id": "94deee03",
   "metadata": {},
   "outputs": [],
   "source": [
    "#loading dataset\n",
    "df = pd.read_excel(\"Assignment1_dataset.xlsx\")"
   ]
  },
  {
   "cell_type": "code",
   "execution_count": 3,
   "id": "6dadb729",
   "metadata": {},
   "outputs": [
    {
     "data": {
      "text/html": [
       "<div>\n",
       "<style scoped>\n",
       "    .dataframe tbody tr th:only-of-type {\n",
       "        vertical-align: middle;\n",
       "    }\n",
       "\n",
       "    .dataframe tbody tr th {\n",
       "        vertical-align: top;\n",
       "    }\n",
       "\n",
       "    .dataframe thead th {\n",
       "        text-align: right;\n",
       "    }\n",
       "</style>\n",
       "<table border=\"1\" class=\"dataframe\">\n",
       "  <thead>\n",
       "    <tr style=\"text-align: right;\">\n",
       "      <th></th>\n",
       "      <th>Transaction date</th>\n",
       "      <th>House Age</th>\n",
       "      <th>Distance from nearest Metro station (km)</th>\n",
       "      <th>Number of convenience stores</th>\n",
       "      <th>latitude</th>\n",
       "      <th>longitude</th>\n",
       "      <th>Number of bedrooms</th>\n",
       "      <th>House size (sqft)</th>\n",
       "      <th>House price of unit area</th>\n",
       "    </tr>\n",
       "  </thead>\n",
       "  <tbody>\n",
       "    <tr>\n",
       "      <th>0</th>\n",
       "      <td>2012.916667</td>\n",
       "      <td>32.0</td>\n",
       "      <td>84.87882</td>\n",
       "      <td>10</td>\n",
       "      <td>24.98298</td>\n",
       "      <td>121.54024</td>\n",
       "      <td>1</td>\n",
       "      <td>575</td>\n",
       "      <td>37.9</td>\n",
       "    </tr>\n",
       "    <tr>\n",
       "      <th>1</th>\n",
       "      <td>2012.916667</td>\n",
       "      <td>19.5</td>\n",
       "      <td>306.59470</td>\n",
       "      <td>9</td>\n",
       "      <td>24.98034</td>\n",
       "      <td>121.53951</td>\n",
       "      <td>2</td>\n",
       "      <td>1240</td>\n",
       "      <td>42.2</td>\n",
       "    </tr>\n",
       "    <tr>\n",
       "      <th>2</th>\n",
       "      <td>2013.583333</td>\n",
       "      <td>13.3</td>\n",
       "      <td>561.98450</td>\n",
       "      <td>5</td>\n",
       "      <td>24.98746</td>\n",
       "      <td>121.54391</td>\n",
       "      <td>3</td>\n",
       "      <td>1060</td>\n",
       "      <td>47.3</td>\n",
       "    </tr>\n",
       "    <tr>\n",
       "      <th>3</th>\n",
       "      <td>2013.500000</td>\n",
       "      <td>13.3</td>\n",
       "      <td>561.98450</td>\n",
       "      <td>5</td>\n",
       "      <td>24.98746</td>\n",
       "      <td>121.54391</td>\n",
       "      <td>2</td>\n",
       "      <td>875</td>\n",
       "      <td>54.8</td>\n",
       "    </tr>\n",
       "    <tr>\n",
       "      <th>4</th>\n",
       "      <td>2012.833333</td>\n",
       "      <td>5.0</td>\n",
       "      <td>390.56840</td>\n",
       "      <td>5</td>\n",
       "      <td>24.97937</td>\n",
       "      <td>121.54245</td>\n",
       "      <td>1</td>\n",
       "      <td>491</td>\n",
       "      <td>43.1</td>\n",
       "    </tr>\n",
       "  </tbody>\n",
       "</table>\n",
       "</div>"
      ],
      "text/plain": [
       "   Transaction date  House Age  Distance from nearest Metro station (km)  \\\n",
       "0       2012.916667       32.0                                  84.87882   \n",
       "1       2012.916667       19.5                                 306.59470   \n",
       "2       2013.583333       13.3                                 561.98450   \n",
       "3       2013.500000       13.3                                 561.98450   \n",
       "4       2012.833333        5.0                                 390.56840   \n",
       "\n",
       "   Number of convenience stores  latitude  longitude  Number of bedrooms  \\\n",
       "0                            10  24.98298  121.54024                   1   \n",
       "1                             9  24.98034  121.53951                   2   \n",
       "2                             5  24.98746  121.54391                   3   \n",
       "3                             5  24.98746  121.54391                   2   \n",
       "4                             5  24.97937  121.54245                   1   \n",
       "\n",
       "   House size (sqft)  House price of unit area  \n",
       "0                575                      37.9  \n",
       "1               1240                      42.2  \n",
       "2               1060                      47.3  \n",
       "3                875                      54.8  \n",
       "4                491                      43.1  "
      ]
     },
     "execution_count": 3,
     "metadata": {},
     "output_type": "execute_result"
    }
   ],
   "source": [
    "#overviw of dataset\n",
    "df.head()"
   ]
  },
  {
   "cell_type": "markdown",
   "id": "6f35e982",
   "metadata": {},
   "source": [
    "## multivariate analysis"
   ]
  },
  {
   "cell_type": "code",
   "execution_count": 4,
   "id": "a18b760d",
   "metadata": {},
   "outputs": [
    {
     "data": {
      "text/html": [
       "<div>\n",
       "<style scoped>\n",
       "    .dataframe tbody tr th:only-of-type {\n",
       "        vertical-align: middle;\n",
       "    }\n",
       "\n",
       "    .dataframe tbody tr th {\n",
       "        vertical-align: top;\n",
       "    }\n",
       "\n",
       "    .dataframe thead th {\n",
       "        text-align: right;\n",
       "    }\n",
       "</style>\n",
       "<table border=\"1\" class=\"dataframe\">\n",
       "  <thead>\n",
       "    <tr style=\"text-align: right;\">\n",
       "      <th></th>\n",
       "      <th>Transaction date</th>\n",
       "      <th>House Age</th>\n",
       "      <th>Distance from nearest Metro station (km)</th>\n",
       "      <th>Number of convenience stores</th>\n",
       "      <th>latitude</th>\n",
       "      <th>longitude</th>\n",
       "      <th>Number of bedrooms</th>\n",
       "      <th>House size (sqft)</th>\n",
       "      <th>House price of unit area</th>\n",
       "    </tr>\n",
       "  </thead>\n",
       "  <tbody>\n",
       "    <tr>\n",
       "      <th>count</th>\n",
       "      <td>414.000000</td>\n",
       "      <td>414.000000</td>\n",
       "      <td>414.000000</td>\n",
       "      <td>414.000000</td>\n",
       "      <td>414.000000</td>\n",
       "      <td>414.000000</td>\n",
       "      <td>414.000000</td>\n",
       "      <td>414.000000</td>\n",
       "      <td>414.000000</td>\n",
       "    </tr>\n",
       "    <tr>\n",
       "      <th>mean</th>\n",
       "      <td>2013.148953</td>\n",
       "      <td>17.712560</td>\n",
       "      <td>1083.885689</td>\n",
       "      <td>4.094203</td>\n",
       "      <td>24.969030</td>\n",
       "      <td>121.533361</td>\n",
       "      <td>1.987923</td>\n",
       "      <td>931.475845</td>\n",
       "      <td>37.980193</td>\n",
       "    </tr>\n",
       "    <tr>\n",
       "      <th>std</th>\n",
       "      <td>0.281995</td>\n",
       "      <td>11.392485</td>\n",
       "      <td>1262.109595</td>\n",
       "      <td>2.945562</td>\n",
       "      <td>0.012410</td>\n",
       "      <td>0.015347</td>\n",
       "      <td>0.818875</td>\n",
       "      <td>348.910269</td>\n",
       "      <td>13.606488</td>\n",
       "    </tr>\n",
       "    <tr>\n",
       "      <th>min</th>\n",
       "      <td>2012.666667</td>\n",
       "      <td>0.000000</td>\n",
       "      <td>23.382840</td>\n",
       "      <td>0.000000</td>\n",
       "      <td>24.932070</td>\n",
       "      <td>121.473530</td>\n",
       "      <td>1.000000</td>\n",
       "      <td>402.000000</td>\n",
       "      <td>7.600000</td>\n",
       "    </tr>\n",
       "    <tr>\n",
       "      <th>25%</th>\n",
       "      <td>2012.916667</td>\n",
       "      <td>9.025000</td>\n",
       "      <td>289.324800</td>\n",
       "      <td>1.000000</td>\n",
       "      <td>24.963000</td>\n",
       "      <td>121.528085</td>\n",
       "      <td>1.000000</td>\n",
       "      <td>548.000000</td>\n",
       "      <td>27.700000</td>\n",
       "    </tr>\n",
       "    <tr>\n",
       "      <th>50%</th>\n",
       "      <td>2013.166667</td>\n",
       "      <td>16.100000</td>\n",
       "      <td>492.231300</td>\n",
       "      <td>4.000000</td>\n",
       "      <td>24.971100</td>\n",
       "      <td>121.538630</td>\n",
       "      <td>2.000000</td>\n",
       "      <td>975.000000</td>\n",
       "      <td>38.450000</td>\n",
       "    </tr>\n",
       "    <tr>\n",
       "      <th>75%</th>\n",
       "      <td>2013.416667</td>\n",
       "      <td>28.150000</td>\n",
       "      <td>1454.279000</td>\n",
       "      <td>6.000000</td>\n",
       "      <td>24.977455</td>\n",
       "      <td>121.543305</td>\n",
       "      <td>3.000000</td>\n",
       "      <td>1234.750000</td>\n",
       "      <td>46.600000</td>\n",
       "    </tr>\n",
       "    <tr>\n",
       "      <th>max</th>\n",
       "      <td>2013.583333</td>\n",
       "      <td>43.800000</td>\n",
       "      <td>6488.021000</td>\n",
       "      <td>10.000000</td>\n",
       "      <td>25.014590</td>\n",
       "      <td>121.566270</td>\n",
       "      <td>3.000000</td>\n",
       "      <td>1500.000000</td>\n",
       "      <td>117.500000</td>\n",
       "    </tr>\n",
       "  </tbody>\n",
       "</table>\n",
       "</div>"
      ],
      "text/plain": [
       "       Transaction date   House Age  Distance from nearest Metro station (km)  \\\n",
       "count        414.000000  414.000000                                414.000000   \n",
       "mean        2013.148953   17.712560                               1083.885689   \n",
       "std            0.281995   11.392485                               1262.109595   \n",
       "min         2012.666667    0.000000                                 23.382840   \n",
       "25%         2012.916667    9.025000                                289.324800   \n",
       "50%         2013.166667   16.100000                                492.231300   \n",
       "75%         2013.416667   28.150000                               1454.279000   \n",
       "max         2013.583333   43.800000                               6488.021000   \n",
       "\n",
       "       Number of convenience stores    latitude   longitude  \\\n",
       "count                    414.000000  414.000000  414.000000   \n",
       "mean                       4.094203   24.969030  121.533361   \n",
       "std                        2.945562    0.012410    0.015347   \n",
       "min                        0.000000   24.932070  121.473530   \n",
       "25%                        1.000000   24.963000  121.528085   \n",
       "50%                        4.000000   24.971100  121.538630   \n",
       "75%                        6.000000   24.977455  121.543305   \n",
       "max                       10.000000   25.014590  121.566270   \n",
       "\n",
       "       Number of bedrooms  House size (sqft)  House price of unit area  \n",
       "count          414.000000         414.000000                414.000000  \n",
       "mean             1.987923         931.475845                 37.980193  \n",
       "std              0.818875         348.910269                 13.606488  \n",
       "min              1.000000         402.000000                  7.600000  \n",
       "25%              1.000000         548.000000                 27.700000  \n",
       "50%              2.000000         975.000000                 38.450000  \n",
       "75%              3.000000        1234.750000                 46.600000  \n",
       "max              3.000000        1500.000000                117.500000  "
      ]
     },
     "execution_count": 4,
     "metadata": {},
     "output_type": "execute_result"
    }
   ],
   "source": [
    "df.describe()"
   ]
  },
  {
   "cell_type": "code",
   "execution_count": 5,
   "id": "60046d03",
   "metadata": {},
   "outputs": [],
   "source": [
    "%matplotlib inline\n",
    "import matplotlib.pyplot as plt"
   ]
  },
  {
   "cell_type": "code",
   "execution_count": 6,
   "id": "bca7c0ff",
   "metadata": {},
   "outputs": [
    {
     "data": {
      "text/plain": [
       "array([[<AxesSubplot:title={'center':'Transaction date'}>,\n",
       "        <AxesSubplot:title={'center':'House Age'}>,\n",
       "        <AxesSubplot:title={'center':'Distance from nearest Metro station (km)'}>],\n",
       "       [<AxesSubplot:title={'center':'Number of convenience stores'}>,\n",
       "        <AxesSubplot:title={'center':'latitude'}>,\n",
       "        <AxesSubplot:title={'center':'longitude'}>],\n",
       "       [<AxesSubplot:title={'center':'Number of bedrooms'}>,\n",
       "        <AxesSubplot:title={'center':'House size (sqft)'}>,\n",
       "        <AxesSubplot:title={'center':'House price of unit area'}>]],\n",
       "      dtype=object)"
      ]
     },
     "execution_count": 6,
     "metadata": {},
     "output_type": "execute_result"
    },
    {
     "data": {
      "image/png": "[encoded data removed]",
      "text/plain": [
       "<Figure size 2000x1500 with 9 Axes>"
      ]
     },
     "metadata": {},
     "output_type": "display_data"
    }
   ],
   "source": [
    "#distribution of all features\n",
    "df.hist(bins=50, figsize=(20, 15))"
   ]
  },
  {
   "cell_type": "code",
   "execution_count": 7,
   "id": "cd0bae14",
   "metadata": {},
   "outputs": [
    {
     "data": {
      "text/plain": [
       "Transaction date                            0\n",
       "House Age                                   0\n",
       "Distance from nearest Metro station (km)    0\n",
       "Number of convenience stores                0\n",
       "latitude                                    0\n",
       "longitude                                   0\n",
       "Number of bedrooms                          0\n",
       "House size (sqft)                           0\n",
       "House price of unit area                    0\n",
       "dtype: int64"
      ]
     },
     "execution_count": 7,
     "metadata": {},
     "output_type": "execute_result"
    }
   ],
   "source": [
    "#sum of null values feature wise\n",
    "df.isnull().sum()"
   ]
  },
  {
   "cell_type": "markdown",
   "id": "5e488dc2",
   "metadata": {},
   "source": [
    "**three is no null values**"
   ]
  },
  {
   "cell_type": "markdown",
   "id": "b693792a",
   "metadata": {},
   "source": [
    "## univariate Analysis"
   ]
  },
  {
   "cell_type": "code",
   "execution_count": 8,
   "id": "1a23c814",
   "metadata": {},
   "outputs": [
    {
     "data": {
      "text/plain": [
       "array([10,  9,  5,  3,  7,  6,  1,  4,  2,  8,  0], dtype=int64)"
      ]
     },
     "execution_count": 8,
     "metadata": {},
     "output_type": "execute_result"
    }
   ],
   "source": [
    "df['Number of convenience stores'].unique()"
   ]
  },
  {
   "cell_type": "code",
   "execution_count": 9,
   "id": "eab1ff45",
   "metadata": {},
   "outputs": [
    {
     "data": {
      "text/plain": [
       "array([32. , 19.5, 13.3,  5. ,  7.1, 34.5, 20.3, 31.7, 17.9, 34.8,  6.3,\n",
       "       13. , 20.4, 13.2, 35.7,  0. , 17.7, 16.9,  1.5,  4.5, 10.5, 14.7,\n",
       "       10.1, 39.6, 29.3,  3.1, 10.4, 19.2, 25.9, 29.6, 37.9, 16.5, 15.4,\n",
       "       13.9, 12. , 16.2, 13.6, 16.8, 36.1, 34.4,  2.7, 36.6, 21.7, 35.9,\n",
       "       24.2, 29.4, 31.3, 32.1, 16.1, 33.6,  3.5, 30.3, 11. ,  5.3, 17.2,\n",
       "        2.6, 17.5, 40.1,  1. ,  8.5, 30.4, 12.5,  6.6, 35.5, 32.5, 13.8,\n",
       "        6.8, 12.3, 20.5, 38.2, 18. , 11.8, 30.8, 25.3, 15.1,  1.8,  8.9,\n",
       "       23. ,  9.1, 20.6, 31.9, 40.9,  8. ,  6.4, 28.4, 16.4, 12.7,  1.1,\n",
       "       32.7, 12.2, 31.4,  4. ,  8.1, 33.3,  9.9, 14.8, 30.6, 30.9, 16.6,\n",
       "       31.5, 38.6,  3.8, 41.3, 38.5, 26.6, 33.4, 18.9, 11.4, 10. , 12.9,\n",
       "        5.1, 19.8, 11.9,  2.1,  3.2, 34.9, 35.8,  4.9,  6.5, 30.7, 11.6,\n",
       "       15.5, 16. , 13.7, 28.2, 27.6,  8.4, 24. ,  3.6,  4.3, 30.2, 33. ,\n",
       "       13.1, 14. , 26.9, 13.5, 17. , 14.1, 20.9, 16.3, 35.3, 43.8,  9.7,\n",
       "       15.2, 22.8, 34. , 18.2, 17.4, 38.3, 15.6, 12.8, 22.2, 11.5,  5.2,\n",
       "       17.6,  6.2, 18.1, 37.8, 28. , 37.2,  9. , 32.4, 31. , 27.1, 39.7,\n",
       "        2. , 32.8,  4.8,  7.5, 19. , 39.2,  5.9, 14.6, 17.3, 15.9,  3.9,\n",
       "       32.6, 15.7, 17.8, 34.7, 10.8, 27.5, 19.1, 21.2,  2.3,  4.7, 33.5,\n",
       "       15. , 30.1, 37.7,  3.4, 12.6, 26.4, 16.7, 33.2,  2.5, 38. , 20. ,\n",
       "       14.4, 10.3, 21.3, 35.4,  8.3,  3.7, 34.6, 28.6, 12.4,  4.1, 25.6,\n",
       "       39.8,  7.8, 30. , 27.3,  1.7,  5.7,  4.6, 18.4,  5.6, 32.9, 41.4,\n",
       "       17.1, 32.3, 14.2, 20.2, 33.9,  5.4, 37.3, 29.1, 18.3, 42.7, 37.1,\n",
       "       26.8,  7.6,  1.9, 18.5, 18.8])"
      ]
     },
     "execution_count": 9,
     "metadata": {},
     "output_type": "execute_result"
    }
   ],
   "source": [
    "df['House Age'].unique()"
   ]
  },
  {
   "cell_type": "code",
   "execution_count": 10,
   "id": "6f6e7f12",
   "metadata": {},
   "outputs": [
    {
     "data": {
      "text/plain": [
       "array([1, 2, 3], dtype=int64)"
      ]
     },
     "execution_count": 10,
     "metadata": {},
     "output_type": "execute_result"
    }
   ],
   "source": [
    "df['Number of bedrooms'].unique()"
   ]
  },
  {
   "cell_type": "code",
   "execution_count": 11,
   "id": "2261e2a2",
   "metadata": {},
   "outputs": [
    {
     "data": {
      "text/plain": [
       "count    414.000000\n",
       "mean      37.980193\n",
       "std       13.606488\n",
       "min        7.600000\n",
       "25%       27.700000\n",
       "50%       38.450000\n",
       "75%       46.600000\n",
       "max      117.500000\n",
       "Name: House price of unit area, dtype: float64"
      ]
     },
     "execution_count": 11,
     "metadata": {},
     "output_type": "execute_result"
    }
   ],
   "source": [
    "df['House price of unit area'].describe()"
   ]
  },
  {
   "cell_type": "markdown",
   "id": "f2b0565e",
   "metadata": {},
   "source": [
    "**outlier**"
   ]
  },
  {
   "cell_type": "code",
   "execution_count": 12,
   "id": "725ea6c2",
   "metadata": {},
   "outputs": [],
   "source": [
    "import seaborn as sns"
   ]
  },
  {
   "cell_type": "code",
   "execution_count": 13,
   "id": "35aa4abd",
   "metadata": {},
   "outputs": [
    {
     "name": "stderr",
     "output_type": "stream",
     "text": [
      "C:\\Users\\Acer\\anaconda3\\lib\\site-packages\\seaborn\\_decorators.py:36: FutureWarning: Pass the following variable as a keyword arg: x. From version 0.12, the only valid positional argument will be `data`, and passing other arguments without an explicit keyword will result in an error or misinterpretation.\n",
      "  warnings.warn(\n"
     ]
    },
    {
     "data": {
      "text/plain": [
       "<AxesSubplot:xlabel='House price of unit area'>"
      ]
     },
     "execution_count": 13,
     "metadata": {},
     "output_type": "execute_result"
    },
    {
     "data": {
      "image/png": "[encoded data removed]",
      "text/plain": [
       "<Figure size 640x480 with 1 Axes>"
      ]
     },
     "metadata": {},
     "output_type": "display_data"
    }
   ],
   "source": [
    "#ploting box plot for checking outliers\n",
    "sns.boxplot(df['House price of unit area'])"
   ]
  },
  {
   "cell_type": "code",
   "execution_count": 14,
   "id": "ba851bb3",
   "metadata": {},
   "outputs": [
    {
     "name": "stderr",
     "output_type": "stream",
     "text": [
      "C:\\Users\\Acer\\anaconda3\\lib\\site-packages\\seaborn\\_decorators.py:36: FutureWarning: Pass the following variable as a keyword arg: x. From version 0.12, the only valid positional argument will be `data`, and passing other arguments without an explicit keyword will result in an error or misinterpretation.\n",
      "  warnings.warn(\n"
     ]
    },
    {
     "data": {
      "text/plain": [
       "<AxesSubplot:xlabel='House Age'>"
      ]
     },
     "execution_count": 14,
     "metadata": {},
     "output_type": "execute_result"
    },
    {
     "data": {
      "image/png": "[encoded data removed]",
      "text/plain": [
       "<Figure size 640x480 with 1 Axes>"
      ]
     },
     "metadata": {},
     "output_type": "display_data"
    }
   ],
   "source": [
    "sns.boxplot(df['House Age'])"
   ]
  },
  {
   "cell_type": "markdown",
   "id": "59486ef4",
   "metadata": {},
   "source": [
    "**there is no outlier**"
   ]
  },
  {
   "cell_type": "code",
   "execution_count": 15,
   "id": "696c470d",
   "metadata": {},
   "outputs": [
    {
     "data": {
      "text/plain": [
       "234"
      ]
     },
     "execution_count": 15,
     "metadata": {},
     "output_type": "execute_result"
    }
   ],
   "source": [
    "len(df['latitude'].unique())"
   ]
  },
  {
   "cell_type": "markdown",
   "id": "cfd08bac",
   "metadata": {},
   "source": [
    "### correlation"
   ]
  },
  {
   "cell_type": "code",
   "execution_count": 16,
   "id": "3cd72702",
   "metadata": {},
   "outputs": [
    {
     "data": {
      "text/plain": [
       "House price of unit area                    1.000000\n",
       "Number of convenience stores                0.571005\n",
       "latitude                                    0.546307\n",
       "longitude                                   0.523287\n",
       "Transaction date                            0.087529\n",
       "Number of bedrooms                          0.050265\n",
       "House size (sqft)                           0.046489\n",
       "House Age                                  -0.210567\n",
       "Distance from nearest Metro station (km)   -0.673613\n",
       "Name: House price of unit area, dtype: float64"
      ]
     },
     "execution_count": 16,
     "metadata": {},
     "output_type": "execute_result"
    }
   ],
   "source": [
    "#checking correlation between features \n",
    "corr_matrix = df.corr()\n",
    "corr_matrix[\"House price of unit area\"].sort_values(ascending=False)"
   ]
  },
  {
   "cell_type": "code",
   "execution_count": 17,
   "id": "cea49587",
   "metadata": {},
   "outputs": [
    {
     "data": {
      "text/plain": [
       "<function matplotlib.pyplot.show(close=None, block=None)>"
      ]
     },
     "execution_count": 17,
     "metadata": {},
     "output_type": "execute_result"
    },
    {
     "data": {
      "image/png": "[encoded data removed]",
      "text/plain": [
       "<Figure size 800x1000 with 2 Axes>"
      ]
     },
     "metadata": {},
     "output_type": "display_data"
    }
   ],
   "source": [
    "#correlation visual using heatmap\n",
    "plt.figure(figsize=(8,10))\n",
    "sns.heatmap(df.corr(),annot=True, linewidths=2)\n",
    "plt.show"
   ]
  },
  {
   "cell_type": "markdown",
   "id": "b75ba151",
   "metadata": {},
   "source": [
    "**Distance from nearest Metro station (km), Number of convenience stores and latitude are highly correleted**"
   ]
  },
  {
   "cell_type": "markdown",
   "id": "0e964cdf",
   "metadata": {},
   "source": [
    "## Assumption of linear regrassion\n",
    "***\n",
    "**1. the target and independent variable should a linear relation between them**\n",
    "\n",
    "**2. If it is not linear we convert it into linear by using variable transformation using operation such as x-squre, root-x, or log x**\n",
    "\n",
    "**3. there should not multicolinearity**\n",
    "\n",
    "**4. muticolinearity = correlation between independent variable is called multicolinearity**\n",
    "\n",
    "**5. we will remove this using VIF**"
   ]
  },
  {
   "cell_type": "markdown",
   "id": "5ed7d6b6",
   "metadata": {},
   "source": [
    "**multicolinearity**"
   ]
  },
  {
   "cell_type": "code",
   "execution_count": 18,
   "id": "cc01ad70",
   "metadata": {},
   "outputs": [],
   "source": [
    "from statsmodels.stats.outliers_influence import variance_inflation_factor"
   ]
  },
  {
   "cell_type": "code",
   "execution_count": 19,
   "id": "f170947f",
   "metadata": {},
   "outputs": [
    {
     "data": {
      "text/html": [
       "<div>\n",
       "<style scoped>\n",
       "    .dataframe tbody tr th:only-of-type {\n",
       "        vertical-align: middle;\n",
       "    }\n",
       "\n",
       "    .dataframe tbody tr th {\n",
       "        vertical-align: top;\n",
       "    }\n",
       "\n",
       "    .dataframe thead th {\n",
       "        text-align: right;\n",
       "    }\n",
       "</style>\n",
       "<table border=\"1\" class=\"dataframe\">\n",
       "  <thead>\n",
       "    <tr style=\"text-align: right;\">\n",
       "      <th></th>\n",
       "      <th>Transaction date</th>\n",
       "      <th>House Age</th>\n",
       "      <th>Distance from nearest Metro station (km)</th>\n",
       "      <th>Number of convenience stores</th>\n",
       "      <th>latitude</th>\n",
       "      <th>longitude</th>\n",
       "      <th>Number of bedrooms</th>\n",
       "      <th>House size (sqft)</th>\n",
       "    </tr>\n",
       "  </thead>\n",
       "  <tbody>\n",
       "    <tr>\n",
       "      <th>0</th>\n",
       "      <td>2012.916667</td>\n",
       "      <td>32.0</td>\n",
       "      <td>84.87882</td>\n",
       "      <td>10</td>\n",
       "      <td>24.98298</td>\n",
       "      <td>121.54024</td>\n",
       "      <td>1</td>\n",
       "      <td>575</td>\n",
       "    </tr>\n",
       "    <tr>\n",
       "      <th>1</th>\n",
       "      <td>2012.916667</td>\n",
       "      <td>19.5</td>\n",
       "      <td>306.59470</td>\n",
       "      <td>9</td>\n",
       "      <td>24.98034</td>\n",
       "      <td>121.53951</td>\n",
       "      <td>2</td>\n",
       "      <td>1240</td>\n",
       "    </tr>\n",
       "    <tr>\n",
       "      <th>2</th>\n",
       "      <td>2013.583333</td>\n",
       "      <td>13.3</td>\n",
       "      <td>561.98450</td>\n",
       "      <td>5</td>\n",
       "      <td>24.98746</td>\n",
       "      <td>121.54391</td>\n",
       "      <td>3</td>\n",
       "      <td>1060</td>\n",
       "    </tr>\n",
       "    <tr>\n",
       "      <th>3</th>\n",
       "      <td>2013.500000</td>\n",
       "      <td>13.3</td>\n",
       "      <td>561.98450</td>\n",
       "      <td>5</td>\n",
       "      <td>24.98746</td>\n",
       "      <td>121.54391</td>\n",
       "      <td>2</td>\n",
       "      <td>875</td>\n",
       "    </tr>\n",
       "    <tr>\n",
       "      <th>4</th>\n",
       "      <td>2012.833333</td>\n",
       "      <td>5.0</td>\n",
       "      <td>390.56840</td>\n",
       "      <td>5</td>\n",
       "      <td>24.97937</td>\n",
       "      <td>121.54245</td>\n",
       "      <td>1</td>\n",
       "      <td>491</td>\n",
       "    </tr>\n",
       "    <tr>\n",
       "      <th>...</th>\n",
       "      <td>...</td>\n",
       "      <td>...</td>\n",
       "      <td>...</td>\n",
       "      <td>...</td>\n",
       "      <td>...</td>\n",
       "      <td>...</td>\n",
       "      <td>...</td>\n",
       "      <td>...</td>\n",
       "    </tr>\n",
       "    <tr>\n",
       "      <th>409</th>\n",
       "      <td>2013.000000</td>\n",
       "      <td>13.7</td>\n",
       "      <td>4082.01500</td>\n",
       "      <td>0</td>\n",
       "      <td>24.94155</td>\n",
       "      <td>121.50381</td>\n",
       "      <td>3</td>\n",
       "      <td>803</td>\n",
       "    </tr>\n",
       "    <tr>\n",
       "      <th>410</th>\n",
       "      <td>2012.666667</td>\n",
       "      <td>5.6</td>\n",
       "      <td>90.45606</td>\n",
       "      <td>9</td>\n",
       "      <td>24.97433</td>\n",
       "      <td>121.54310</td>\n",
       "      <td>2</td>\n",
       "      <td>1278</td>\n",
       "    </tr>\n",
       "    <tr>\n",
       "      <th>411</th>\n",
       "      <td>2013.250000</td>\n",
       "      <td>18.8</td>\n",
       "      <td>390.96960</td>\n",
       "      <td>7</td>\n",
       "      <td>24.97923</td>\n",
       "      <td>121.53986</td>\n",
       "      <td>1</td>\n",
       "      <td>503</td>\n",
       "    </tr>\n",
       "    <tr>\n",
       "      <th>412</th>\n",
       "      <td>2013.000000</td>\n",
       "      <td>8.1</td>\n",
       "      <td>104.81010</td>\n",
       "      <td>5</td>\n",
       "      <td>24.96674</td>\n",
       "      <td>121.54067</td>\n",
       "      <td>1</td>\n",
       "      <td>597</td>\n",
       "    </tr>\n",
       "    <tr>\n",
       "      <th>413</th>\n",
       "      <td>2013.500000</td>\n",
       "      <td>6.5</td>\n",
       "      <td>90.45606</td>\n",
       "      <td>9</td>\n",
       "      <td>24.97433</td>\n",
       "      <td>121.54310</td>\n",
       "      <td>2</td>\n",
       "      <td>1097</td>\n",
       "    </tr>\n",
       "  </tbody>\n",
       "</table>\n",
       "<p>414 rows × 8 columns</p>\n",
       "</div>"
      ],
      "text/plain": [
       "     Transaction date  House Age  Distance from nearest Metro station (km)  \\\n",
       "0         2012.916667       32.0                                  84.87882   \n",
       "1         2012.916667       19.5                                 306.59470   \n",
       "2         2013.583333       13.3                                 561.98450   \n",
       "3         2013.500000       13.3                                 561.98450   \n",
       "4         2012.833333        5.0                                 390.56840   \n",
       "..                ...        ...                                       ...   \n",
       "409       2013.000000       13.7                                4082.01500   \n",
       "410       2012.666667        5.6                                  90.45606   \n",
       "411       2013.250000       18.8                                 390.96960   \n",
       "412       2013.000000        8.1                                 104.81010   \n",
       "413       2013.500000        6.5                                  90.45606   \n",
       "\n",
       "     Number of convenience stores  latitude  longitude  Number of bedrooms  \\\n",
       "0                              10  24.98298  121.54024                   1   \n",
       "1                               9  24.98034  121.53951                   2   \n",
       "2                               5  24.98746  121.54391                   3   \n",
       "3                               5  24.98746  121.54391                   2   \n",
       "4                               5  24.97937  121.54245                   1   \n",
       "..                            ...       ...        ...                 ...   \n",
       "409                             0  24.94155  121.50381                   3   \n",
       "410                             9  24.97433  121.54310                   2   \n",
       "411                             7  24.97923  121.53986                   1   \n",
       "412                             5  24.96674  121.54067                   1   \n",
       "413                             9  24.97433  121.54310                   2   \n",
       "\n",
       "     House size (sqft)  \n",
       "0                  575  \n",
       "1                 1240  \n",
       "2                 1060  \n",
       "3                  875  \n",
       "4                  491  \n",
       "..                 ...  \n",
       "409                803  \n",
       "410               1278  \n",
       "411                503  \n",
       "412                597  \n",
       "413               1097  \n",
       "\n",
       "[414 rows x 8 columns]"
      ]
     },
     "execution_count": 19,
     "metadata": {},
     "output_type": "execute_result"
    }
   ],
   "source": [
    "data= df.iloc[:,:-1]\n",
    "data"
   ]
  },
  {
   "cell_type": "code",
   "execution_count": 20,
   "id": "62f110ed",
   "metadata": {},
   "outputs": [
    {
     "data": {
      "text/plain": [
       "Transaction date                            4.264162e+07\n",
       "House Age                                   3.500035e+00\n",
       "Distance from nearest Metro station (km)    4.287569e+00\n",
       "Number of convenience stores                4.758596e+00\n",
       "latitude                                    6.184837e+06\n",
       "longitude                                   4.212056e+07\n",
       "Number of bedrooms                          1.607817e+01\n",
       "House size (sqft)                           1.902631e+01\n",
       "dtype: float64"
      ]
     },
     "execution_count": 20,
     "metadata": {},
     "output_type": "execute_result"
    }
   ],
   "source": [
    "pd.Series([variance_inflation_factor(data.values,i) for i in range (data.shape[1])], index=data.columns)"
   ]
  },
  {
   "cell_type": "markdown",
   "id": "810a6462",
   "metadata": {},
   "source": [
    "**there is no multi colinearity because VIF is less then 5**"
   ]
  },
  {
   "cell_type": "markdown",
   "id": "0792b284",
   "metadata": {},
   "source": [
    "## data preprocessing"
   ]
  },
  {
   "cell_type": "markdown",
   "id": "91033454",
   "metadata": {},
   "source": [
    "**train test split**"
   ]
  },
  {
   "cell_type": "code",
   "execution_count": 21,
   "id": "bb8def7d",
   "metadata": {},
   "outputs": [],
   "source": [
    "x = df.iloc[:,:-1].to_numpy()\n",
    "y = df.iloc[:,-1].to_numpy()"
   ]
  },
  {
   "cell_type": "code",
   "execution_count": 22,
   "id": "d44df2c9",
   "metadata": {},
   "outputs": [],
   "source": [
    "#train_test_split\n",
    "from sklearn.model_selection import train_test_split\n",
    "x_train, x_test, y_train, y_test = train_test_split(x,y, test_size=0.25, random_state=0)"
   ]
  },
  {
   "cell_type": "markdown",
   "id": "567ace19",
   "metadata": {},
   "source": [
    "**standard scaler**"
   ]
  },
  {
   "cell_type": "code",
   "execution_count": 23,
   "id": "5be155b3",
   "metadata": {},
   "outputs": [
    {
     "data": {
      "text/plain": [
       "'sc = StandardScaler()\\nx_train = sc.fit_transform(x_train)\\nx_test = sc.transform(x_test)'"
      ]
     },
     "execution_count": 23,
     "metadata": {},
     "output_type": "execute_result"
    }
   ],
   "source": [
    "from sklearn.preprocessing import StandardScaler\n",
    "'''sc = StandardScaler()\n",
    "x_train = sc.fit_transform(x_train)\n",
    "x_test = sc.transform(x_test)'''"
   ]
  },
  {
   "cell_type": "code",
   "execution_count": 24,
   "id": "aa64cf4b",
   "metadata": {},
   "outputs": [],
   "source": [
    "#creating pipeline\n",
    "import sklearn.pipeline\n",
    "from sklearn.pipeline import Pipeline\n",
    "my_pipeline = Pipeline([\n",
    "    ('sc', StandardScaler()),\n",
    "])"
   ]
  },
  {
   "cell_type": "code",
   "execution_count": 25,
   "id": "70b767d3",
   "metadata": {},
   "outputs": [],
   "source": [
    "x_train=my_pipeline.fit_transform(x_train)\n",
    "x_test=my_pipeline.fit_transform(x_test)"
   ]
  },
  {
   "cell_type": "markdown",
   "id": "28638210",
   "metadata": {},
   "source": [
    "## linear Regressin model"
   ]
  },
  {
   "cell_type": "code",
   "execution_count": 26,
   "id": "c8052a16",
   "metadata": {},
   "outputs": [],
   "source": [
    "from sklearn.linear_model import LinearRegression"
   ]
  },
  {
   "cell_type": "code",
   "execution_count": 27,
   "id": "623dcf8c",
   "metadata": {},
   "outputs": [],
   "source": [
    "model1=LinearRegression()\n",
    "model1.fit(x_train, y_train)\n",
    "predictons1=model1.predict(x_train)"
   ]
  },
  {
   "cell_type": "code",
   "execution_count": 28,
   "id": "c1ebabd2",
   "metadata": {},
   "outputs": [
    {
     "data": {
      "text/plain": [
       "0.5802436812443844"
      ]
     },
     "execution_count": 28,
     "metadata": {},
     "output_type": "execute_result"
    }
   ],
   "source": [
    "model1.score(x_train, y_train)"
   ]
  },
  {
   "cell_type": "markdown",
   "id": "b9ccde68",
   "metadata": {},
   "source": [
    "## Random forest model"
   ]
  },
  {
   "cell_type": "code",
   "execution_count": 29,
   "id": "103640c5",
   "metadata": {},
   "outputs": [],
   "source": [
    "from sklearn.ensemble import RandomForestRegressor"
   ]
  },
  {
   "cell_type": "code",
   "execution_count": 30,
   "id": "c8860710",
   "metadata": {},
   "outputs": [],
   "source": [
    "model2 = RandomForestRegressor(n_estimators = 100, random_state = 0)\n",
    "model2.fit(x_train, y_train)\n",
    "prediction2 = model2.predict(x_train)"
   ]
  },
  {
   "cell_type": "code",
   "execution_count": 31,
   "id": "a856528d",
   "metadata": {},
   "outputs": [
    {
     "data": {
      "text/plain": [
       "0.9570460842063554"
      ]
     },
     "execution_count": 31,
     "metadata": {},
     "output_type": "execute_result"
    }
   ],
   "source": [
    "model2.score(x_train, y_train)"
   ]
  },
  {
   "cell_type": "code",
   "execution_count": 32,
   "id": "a65be3f6",
   "metadata": {},
   "outputs": [
    {
     "data": {
      "text/plain": [
       "0.9570460842063554"
      ]
     },
     "execution_count": 32,
     "metadata": {},
     "output_type": "execute_result"
    }
   ],
   "source": [
    "from sklearn.metrics import r2_score\n",
    "r2_score(y_train,prediction2)"
   ]
  },
  {
   "cell_type": "markdown",
   "id": "0c8b9d62",
   "metadata": {},
   "source": [
    "## Decision tree model"
   ]
  },
  {
   "cell_type": "code",
   "execution_count": 33,
   "id": "673b5ad7",
   "metadata": {},
   "outputs": [],
   "source": [
    "from sklearn.tree import DecisionTreeRegressor as DTR"
   ]
  },
  {
   "cell_type": "code",
   "execution_count": 34,
   "id": "a48dad1e",
   "metadata": {},
   "outputs": [],
   "source": [
    "model3=DTR(random_state = 0)\n",
    "model3.fit(x_train, y_train)\n",
    "prediction3 = model3.predict(x_train)"
   ]
  },
  {
   "cell_type": "code",
   "execution_count": 35,
   "id": "e217ad25",
   "metadata": {},
   "outputs": [
    {
     "data": {
      "text/plain": [
       "1.0"
      ]
     },
     "execution_count": 35,
     "metadata": {},
     "output_type": "execute_result"
    }
   ],
   "source": [
    "model3.score(x_train, y_train)"
   ]
  },
  {
   "cell_type": "markdown",
   "id": "f9835f14",
   "metadata": {},
   "source": [
    "**here our model gives 100% accurecy becuse of this model has an issue that is overfitting**\n",
    "\n",
    "**so, to aviod overfitting we use cross validation**"
   ]
  },
  {
   "cell_type": "markdown",
   "id": "8cb799ba",
   "metadata": {},
   "source": [
    "## xgboost model"
   ]
  },
  {
   "cell_type": "code",
   "execution_count": 36,
   "id": "a8d8c05b",
   "metadata": {},
   "outputs": [
    {
     "name": "stdout",
     "output_type": "stream",
     "text": [
      "Requirement already satisfied: xgboost in c:\\users\\acer\\anaconda3\\lib\\site-packages (1.7.1)\n",
      "Requirement already satisfied: scipy in c:\\users\\acer\\anaconda3\\lib\\site-packages (from xgboost) (1.9.1)\n",
      "Requirement already satisfied: numpy in c:\\users\\acer\\anaconda3\\lib\\site-packages (from xgboost) (1.21.5)\n",
      "Note: you may need to restart the kernel to use updated packages.\n"
     ]
    }
   ],
   "source": [
    "pip install xgboost"
   ]
  },
  {
   "cell_type": "code",
   "execution_count": 37,
   "id": "d5e08e84",
   "metadata": {},
   "outputs": [],
   "source": [
    "import xgboost as xg"
   ]
  },
  {
   "cell_type": "code",
   "execution_count": 38,
   "id": "d559869e",
   "metadata": {},
   "outputs": [],
   "source": [
    "model4 = xg.XGBRegressor(subsample=0.7, colsample_bytree=0.8, n_estimators = 100, max_depth=6)"
   ]
  },
  {
   "cell_type": "code",
   "execution_count": 39,
   "id": "33be719e",
   "metadata": {},
   "outputs": [
    {
     "data": {
      "text/plain": [
       "XGBRegressor(base_score=0.5, booster='gbtree', callbacks=None,\n",
       "             colsample_bylevel=1, colsample_bynode=1, colsample_bytree=0.8,\n",
       "             early_stopping_rounds=None, enable_categorical=False,\n",
       "             eval_metric=None, feature_types=None, gamma=0, gpu_id=-1,\n",
       "             grow_policy='depthwise', importance_type=None,\n",
       "             interaction_constraints='', learning_rate=0.300000012, max_bin=256,\n",
       "             max_cat_threshold=64, max_cat_to_onehot=4, max_delta_step=0,\n",
       "             max_depth=6, max_leaves=0, min_child_weight=1, missing=nan,\n",
       "             monotone_constraints='()', n_estimators=100, n_jobs=0,\n",
       "             num_parallel_tree=1, predictor='auto', random_state=0, ...)"
      ]
     },
     "execution_count": 39,
     "metadata": {},
     "output_type": "execute_result"
    }
   ],
   "source": [
    "model4.fit(x_train, y_train)"
   ]
  },
  {
   "cell_type": "code",
   "execution_count": 40,
   "id": "60738b50",
   "metadata": {},
   "outputs": [
    {
     "data": {
      "text/plain": [
       "0.9999823432401467"
      ]
     },
     "execution_count": 40,
     "metadata": {},
     "output_type": "execute_result"
    }
   ],
   "source": [
    "prediction4 = model4.predict(x_train)\n",
    "model4.score(x_train, y_train)"
   ]
  },
  {
   "cell_type": "markdown",
   "id": "c8945d7c",
   "metadata": {},
   "source": [
    "## cross validation"
   ]
  },
  {
   "cell_type": "markdown",
   "id": "169f3553",
   "metadata": {},
   "source": [
    "#### mean accurcy score and standard deviation with cross validatio"
   ]
  },
  {
   "cell_type": "code",
   "execution_count": 41,
   "id": "fe8edb80",
   "metadata": {},
   "outputs": [],
   "source": [
    "from sklearn.model_selection import cross_val_score"
   ]
  },
  {
   "cell_type": "code",
   "execution_count": 42,
   "id": "8551042f",
   "metadata": {},
   "outputs": [],
   "source": [
    "#creating function that will help to fast impliment of cross validation \n",
    "def model(model_name):\n",
    "    scores = cross_val_score(model_name, X=x_train, y= y_train, cv=10)\n",
    "    mean_score= scores.mean()\n",
    "    std_score= scores.std()\n",
    "    return mean_score, std_score"
   ]
  },
  {
   "cell_type": "code",
   "execution_count": 43,
   "id": "0f9c2419",
   "metadata": {},
   "outputs": [
    {
     "name": "stdout",
     "output_type": "stream",
     "text": [
      "0.5648354851072321 0.14016191350293306\n"
     ]
    }
   ],
   "source": [
    "#mean accurcy score (mas) and standard davition (std) for model1 (linear regression)\n",
    "mas1, std1 =model(model1)\n",
    "print(mas1, std1)"
   ]
  },
  {
   "cell_type": "code",
   "execution_count": 44,
   "id": "8dfb5b25",
   "metadata": {},
   "outputs": [
    {
     "name": "stdout",
     "output_type": "stream",
     "text": [
      "0.6927691284266444 0.13628771908172396\n"
     ]
    }
   ],
   "source": [
    "#mean accurcy score (mas) and standard davition (std) for model2 (random forest)\n",
    "mas2, std2 =model(model2)\n",
    "print(mas2, std2)"
   ]
  },
  {
   "cell_type": "code",
   "execution_count": 45,
   "id": "be00f512",
   "metadata": {},
   "outputs": [
    {
     "name": "stdout",
     "output_type": "stream",
     "text": [
      "0.4175715971899656 0.27525316415404383\n"
     ]
    }
   ],
   "source": [
    "#mean accurcy score (mas) and standard davition (std) for model3 (decision tree)\n",
    "mas3, std3 =model(model3)\n",
    "print(mas3, std3)"
   ]
  },
  {
   "cell_type": "code",
   "execution_count": 46,
   "id": "c1f19033",
   "metadata": {},
   "outputs": [
    {
     "name": "stdout",
     "output_type": "stream",
     "text": [
      "0.6436643157600661 0.16041020701031403\n"
     ]
    }
   ],
   "source": [
    "#mean accurcy score (mas) and standard davition (std) for model4 (xgboost)\n",
    "mas4, std4 =model(model4)\n",
    "print(mas4, std4)"
   ]
  },
  {
   "cell_type": "markdown",
   "id": "f1604e0e",
   "metadata": {},
   "source": [
    "## compersion of models"
   ]
  },
  {
   "cell_type": "code",
   "execution_count": 47,
   "id": "430724e5",
   "metadata": {},
   "outputs": [
    {
     "data": {
      "text/html": [
       "<div>\n",
       "<style scoped>\n",
       "    .dataframe tbody tr th:only-of-type {\n",
       "        vertical-align: middle;\n",
       "    }\n",
       "\n",
       "    .dataframe tbody tr th {\n",
       "        vertical-align: top;\n",
       "    }\n",
       "\n",
       "    .dataframe thead th {\n",
       "        text-align: right;\n",
       "    }\n",
       "</style>\n",
       "<table border=\"1\" class=\"dataframe\">\n",
       "  <thead>\n",
       "    <tr style=\"text-align: right;\">\n",
       "      <th></th>\n",
       "      <th>models</th>\n",
       "      <th>mean_accurcy_score</th>\n",
       "      <th>standard_daviation</th>\n",
       "    </tr>\n",
       "  </thead>\n",
       "  <tbody>\n",
       "    <tr>\n",
       "      <th>0</th>\n",
       "      <td>Random_Forest</td>\n",
       "      <td>0.692769</td>\n",
       "      <td>0.136288</td>\n",
       "    </tr>\n",
       "    <tr>\n",
       "      <th>1</th>\n",
       "      <td>xgboost</td>\n",
       "      <td>0.643664</td>\n",
       "      <td>0.160410</td>\n",
       "    </tr>\n",
       "    <tr>\n",
       "      <th>2</th>\n",
       "      <td>Linear_Regression</td>\n",
       "      <td>0.564835</td>\n",
       "      <td>0.136288</td>\n",
       "    </tr>\n",
       "    <tr>\n",
       "      <th>3</th>\n",
       "      <td>Decision_Tree</td>\n",
       "      <td>0.417572</td>\n",
       "      <td>0.275253</td>\n",
       "    </tr>\n",
       "  </tbody>\n",
       "</table>\n",
       "</div>"
      ],
      "text/plain": [
       "              models  mean_accurcy_score  standard_daviation\n",
       "0      Random_Forest            0.692769            0.136288\n",
       "1            xgboost            0.643664            0.160410\n",
       "2  Linear_Regression            0.564835            0.136288\n",
       "3      Decision_Tree            0.417572            0.275253"
      ]
     },
     "execution_count": 47,
     "metadata": {},
     "output_type": "execute_result"
    }
   ],
   "source": [
    "models_comp=pd.DataFrame({'models':['Linear_Regression','Random_Forest','Decision_Tree','xgboost'],'mean_accurcy_score':[mas1,mas2,mas3,mas4],'standard_daviation':[std2,std2,std3, std4]})\n",
    "models_comp.sort_values(by='mean_accurcy_score', ascending=False, ignore_index=True)"
   ]
  },
  {
   "cell_type": "markdown",
   "id": "a9052b45",
   "metadata": {},
   "source": [
    "**Random Forest is best model among these models**\n",
    "\n",
    "**Rondom forest model is represented by model2 in this project**"
   ]
  },
  {
   "cell_type": "markdown",
   "id": "1f507536",
   "metadata": {},
   "source": [
    "## practice of model"
   ]
  },
  {
   "cell_type": "code",
   "execution_count": 48,
   "id": "9e6ae50b",
   "metadata": {},
   "outputs": [],
   "source": [
    "some_label=y\n",
    "prepare_data=my_pipeline.fit_transform(x)"
   ]
  },
  {
   "cell_type": "code",
   "execution_count": 49,
   "id": "01bafc20",
   "metadata": {},
   "outputs": [
    {
     "data": {
      "text/plain": [
       "array([42.515, 42.622, 48.258, 49.93 , 51.735, 26.621, 38.302, 47.265,\n",
       "       19.048, 23.262])"
      ]
     },
     "execution_count": 49,
     "metadata": {},
     "output_type": "execute_result"
    }
   ],
   "source": [
    "model2.predict(prepare_data[:10])"
   ]
  },
  {
   "cell_type": "code",
   "execution_count": 50,
   "id": "d9bdc9eb",
   "metadata": {},
   "outputs": [
    {
     "data": {
      "text/plain": [
       "[37.9, 42.2, 47.3, 54.8, 43.1, 32.1, 40.3, 46.7, 18.8, 22.1]"
      ]
     },
     "execution_count": 50,
     "metadata": {},
     "output_type": "execute_result"
    }
   ],
   "source": [
    "list(some_label[:10])"
   ]
  },
  {
   "cell_type": "markdown",
   "id": "66242de1",
   "metadata": {},
   "source": [
    "## pickling the file for deployment"
   ]
  },
  {
   "cell_type": "code",
   "execution_count": 51,
   "id": "6ab15f2a",
   "metadata": {},
   "outputs": [],
   "source": [
    "import pickle"
   ]
  },
  {
   "cell_type": "code",
   "execution_count": 52,
   "id": "bdeb4d41",
   "metadata": {},
   "outputs": [],
   "source": [
    "pickle.dump(model2,open('rfrmodel.pkl','wb'))"
   ]
  },
  {
   "cell_type": "code",
   "execution_count": 53,
   "id": "c213608e",
   "metadata": {},
   "outputs": [],
   "source": [
    "pickled_model=pickle.load(open('rfrmodel.pkl','rb'))"
   ]
  },
  {
   "cell_type": "code",
   "execution_count": 54,
   "id": "79b468e9",
   "metadata": {},
   "outputs": [
    {
     "data": {
      "text/plain": [
       "array([16.917])"
      ]
     },
     "execution_count": 54,
     "metadata": {},
     "output_type": "execute_result"
    }
   ],
   "source": [
    "pickled_model.predict((x_test[1].reshape(1,-1)))"
   ]
  },
  {
   "cell_type": "code",
   "execution_count": 55,
   "id": "df92cdef",
   "metadata": {},
   "outputs": [
    {
     "data": {
      "text/plain": [
       "array([70.33])"
      ]
     },
     "execution_count": 55,
     "metadata": {},
     "output_type": "execute_result"
    }
   ],
   "source": [
    "pickled_model.predict((x_test[0].reshape(1,-1)))"
   ]
  },
  {
   "cell_type": "code",
   "execution_count": null,
   "id": "aa65da37",
   "metadata": {},
   "outputs": [],
   "source": []
  }
 ],
 "metadata": {
  "kernelspec": {
   "display_name": "Python 3 (ipykernel)",
   "language": "python",
   "name": "python3"
  },
  "language_info": {
   "codemirror_mode": {
    "name": "ipython",
    "version": 3
   },
   "file_extension": ".py",
   "mimetype": "text/x-python",
   "name": "python",
   "nbconvert_exporter": "python",
   "pygments_lexer": "ipython3",
   "version": "3.9.13"
  }
 },
 "nbformat": 4,
 "nbformat_minor": 5
}
