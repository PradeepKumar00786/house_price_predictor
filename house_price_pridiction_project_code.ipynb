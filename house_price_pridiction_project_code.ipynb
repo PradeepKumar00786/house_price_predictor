{
 "cells": [
  {
   "cell_type": "markdown",
   "id": "29b1d192",
   "metadata": {},
   "source": [
    "## House price predicter"
   ]
  },
  {
   "cell_type": "markdown",
   "id": "ccc154d0",
   "metadata": {},
   "source": [
    "### Problem statement:\n",
    "The goal is to understand the relationship between house features and how these\n",
    "variables affect the house price.\n",
    "Using more than one model, predict the price of the house using the given dataset. Please compare the\n",
    "accuracy of the models along with the drawbacks of each technique's assumptions before recommending\n",
    "the final prediction model."
   ]
  },
  {
   "cell_type": "code",
   "execution_count": 1,
   "id": "21a08b63",
   "metadata": {},
   "outputs": [],
   "source": [
    "#importing libery\n",
    "import pandas as pd\n",
    "import numpy as np"
   ]
  },
  {
   "cell_type": "code",
   "execution_count": 2,
   "id": "94deee03",
   "metadata": {},
   "outputs": [],
   "source": [
    "#loading dataset\n",
    "df = pd.read_excel(\"Assignment1_dataset.xlsx\")"
   ]
  },
  {
   "cell_type": "code",
   "execution_count": 3,
   "id": "6dadb729",
   "metadata": {},
   "outputs": [
    {
     "data": {
      "text/html": [
       "<div>\n",
       "<style scoped>\n",
       "    .dataframe tbody tr th:only-of-type {\n",
       "        vertical-align: middle;\n",
       "    }\n",
       "\n",
       "    .dataframe tbody tr th {\n",
       "        vertical-align: top;\n",
       "    }\n",
       "\n",
       "    .dataframe thead th {\n",
       "        text-align: right;\n",
       "    }\n",
       "</style>\n",
       "<table border=\"1\" class=\"dataframe\">\n",
       "  <thead>\n",
       "    <tr style=\"text-align: right;\">\n",
       "      <th></th>\n",
       "      <th>Transaction date</th>\n",
       "      <th>House Age</th>\n",
       "      <th>Distance from nearest Metro station (km)</th>\n",
       "      <th>Number of convenience stores</th>\n",
       "      <th>latitude</th>\n",
       "      <th>longitude</th>\n",
       "      <th>Number of bedrooms</th>\n",
       "      <th>House size (sqft)</th>\n",
       "      <th>House price of unit area</th>\n",
       "    </tr>\n",
       "  </thead>\n",
       "  <tbody>\n",
       "    <tr>\n",
       "      <th>0</th>\n",
       "      <td>2012.916667</td>\n",
       "      <td>32.0</td>\n",
       "      <td>84.87882</td>\n",
       "      <td>10</td>\n",
       "      <td>24.98298</td>\n",
       "      <td>121.54024</td>\n",
       "      <td>1</td>\n",
       "      <td>575</td>\n",
       "      <td>37.9</td>\n",
       "    </tr>\n",
       "    <tr>\n",
       "      <th>1</th>\n",
       "      <td>2012.916667</td>\n",
       "      <td>19.5</td>\n",
       "      <td>306.59470</td>\n",
       "      <td>9</td>\n",
       "      <td>24.98034</td>\n",
       "      <td>121.53951</td>\n",
       "      <td>2</td>\n",
       "      <td>1240</td>\n",
       "      <td>42.2</td>\n",
       "    </tr>\n",
       "    <tr>\n",
       "      <th>2</th>\n",
       "      <td>2013.583333</td>\n",
       "      <td>13.3</td>\n",
       "      <td>561.98450</td>\n",
       "      <td>5</td>\n",
       "      <td>24.98746</td>\n",
       "      <td>121.54391</td>\n",
       "      <td>3</td>\n",
       "      <td>1060</td>\n",
       "      <td>47.3</td>\n",
       "    </tr>\n",
       "    <tr>\n",
       "      <th>3</th>\n",
       "      <td>2013.500000</td>\n",
       "      <td>13.3</td>\n",
       "      <td>561.98450</td>\n",
       "      <td>5</td>\n",
       "      <td>24.98746</td>\n",
       "      <td>121.54391</td>\n",
       "      <td>2</td>\n",
       "      <td>875</td>\n",
       "      <td>54.8</td>\n",
       "    </tr>\n",
       "    <tr>\n",
       "      <th>4</th>\n",
       "      <td>2012.833333</td>\n",
       "      <td>5.0</td>\n",
       "      <td>390.56840</td>\n",
       "      <td>5</td>\n",
       "      <td>24.97937</td>\n",
       "      <td>121.54245</td>\n",
       "      <td>1</td>\n",
       "      <td>491</td>\n",
       "      <td>43.1</td>\n",
       "    </tr>\n",
       "  </tbody>\n",
       "</table>\n",
       "</div>"
      ],
      "text/plain": [
       "   Transaction date  House Age  Distance from nearest Metro station (km)  \\\n",
       "0       2012.916667       32.0                                  84.87882   \n",
       "1       2012.916667       19.5                                 306.59470   \n",
       "2       2013.583333       13.3                                 561.98450   \n",
       "3       2013.500000       13.3                                 561.98450   \n",
       "4       2012.833333        5.0                                 390.56840   \n",
       "\n",
       "   Number of convenience stores  latitude  longitude  Number of bedrooms  \\\n",
       "0                            10  24.98298  121.54024                   1   \n",
       "1                             9  24.98034  121.53951                   2   \n",
       "2                             5  24.98746  121.54391                   3   \n",
       "3                             5  24.98746  121.54391                   2   \n",
       "4                             5  24.97937  121.54245                   1   \n",
       "\n",
       "   House size (sqft)  House price of unit area  \n",
       "0                575                      37.9  \n",
       "1               1240                      42.2  \n",
       "2               1060                      47.3  \n",
       "3                875                      54.8  \n",
       "4                491                      43.1  "
      ]
     },
     "execution_count": 3,
     "metadata": {},
     "output_type": "execute_result"
    }
   ],
   "source": [
    "#overviw of dataset\n",
    "df.head()"
   ]
  },
  {
   "cell_type": "markdown",
   "id": "6f35e982",
   "metadata": {},
   "source": [
    "## multivariate analysis"
   ]
  },
  {
   "cell_type": "code",
   "execution_count": 4,
   "id": "a18b760d",
   "metadata": {},
   "outputs": [
    {
     "data": {
      "text/html": [
       "<div>\n",
       "<style scoped>\n",
       "    .dataframe tbody tr th:only-of-type {\n",
       "        vertical-align: middle;\n",
       "    }\n",
       "\n",
       "    .dataframe tbody tr th {\n",
       "        vertical-align: top;\n",
       "    }\n",
       "\n",
       "    .dataframe thead th {\n",
       "        text-align: right;\n",
       "    }\n",
       "</style>\n",
       "<table border=\"1\" class=\"dataframe\">\n",
       "  <thead>\n",
       "    <tr style=\"text-align: right;\">\n",
       "      <th></th>\n",
       "      <th>Transaction date</th>\n",
       "      <th>House Age</th>\n",
       "      <th>Distance from nearest Metro station (km)</th>\n",
       "      <th>Number of convenience stores</th>\n",
       "      <th>latitude</th>\n",
       "      <th>longitude</th>\n",
       "      <th>Number of bedrooms</th>\n",
       "      <th>House size (sqft)</th>\n",
       "      <th>House price of unit area</th>\n",
       "    </tr>\n",
       "  </thead>\n",
       "  <tbody>\n",
       "    <tr>\n",
       "      <th>count</th>\n",
       "      <td>414.000000</td>\n",
       "      <td>414.000000</td>\n",
       "      <td>414.000000</td>\n",
       "      <td>414.000000</td>\n",
       "      <td>414.000000</td>\n",
       "      <td>414.000000</td>\n",
       "      <td>414.000000</td>\n",
       "      <td>414.000000</td>\n",
       "      <td>414.000000</td>\n",
       "    </tr>\n",
       "    <tr>\n",
       "      <th>mean</th>\n",
       "      <td>2013.148953</td>\n",
       "      <td>17.712560</td>\n",
       "      <td>1083.885689</td>\n",
       "      <td>4.094203</td>\n",
       "      <td>24.969030</td>\n",
       "      <td>121.533361</td>\n",
       "      <td>1.987923</td>\n",
       "      <td>931.475845</td>\n",
       "      <td>37.980193</td>\n",
       "    </tr>\n",
       "    <tr>\n",
       "      <th>std</th>\n",
       "      <td>0.281995</td>\n",
       "      <td>11.392485</td>\n",
       "      <td>1262.109595</td>\n",
       "      <td>2.945562</td>\n",
       "      <td>0.012410</td>\n",
       "      <td>0.015347</td>\n",
       "      <td>0.818875</td>\n",
       "      <td>348.910269</td>\n",
       "      <td>13.606488</td>\n",
       "    </tr>\n",
       "    <tr>\n",
       "      <th>min</th>\n",
       "      <td>2012.666667</td>\n",
       "      <td>0.000000</td>\n",
       "      <td>23.382840</td>\n",
       "      <td>0.000000</td>\n",
       "      <td>24.932070</td>\n",
       "      <td>121.473530</td>\n",
       "      <td>1.000000</td>\n",
       "      <td>402.000000</td>\n",
       "      <td>7.600000</td>\n",
       "    </tr>\n",
       "    <tr>\n",
       "      <th>25%</th>\n",
       "      <td>2012.916667</td>\n",
       "      <td>9.025000</td>\n",
       "      <td>289.324800</td>\n",
       "      <td>1.000000</td>\n",
       "      <td>24.963000</td>\n",
       "      <td>121.528085</td>\n",
       "      <td>1.000000</td>\n",
       "      <td>548.000000</td>\n",
       "      <td>27.700000</td>\n",
       "    </tr>\n",
       "    <tr>\n",
       "      <th>50%</th>\n",
       "      <td>2013.166667</td>\n",
       "      <td>16.100000</td>\n",
       "      <td>492.231300</td>\n",
       "      <td>4.000000</td>\n",
       "      <td>24.971100</td>\n",
       "      <td>121.538630</td>\n",
       "      <td>2.000000</td>\n",
       "      <td>975.000000</td>\n",
       "      <td>38.450000</td>\n",
       "    </tr>\n",
       "    <tr>\n",
       "      <th>75%</th>\n",
       "      <td>2013.416667</td>\n",
       "      <td>28.150000</td>\n",
       "      <td>1454.279000</td>\n",
       "      <td>6.000000</td>\n",
       "      <td>24.977455</td>\n",
       "      <td>121.543305</td>\n",
       "      <td>3.000000</td>\n",
       "      <td>1234.750000</td>\n",
       "      <td>46.600000</td>\n",
       "    </tr>\n",
       "    <tr>\n",
       "      <th>max</th>\n",
       "      <td>2013.583333</td>\n",
       "      <td>43.800000</td>\n",
       "      <td>6488.021000</td>\n",
       "      <td>10.000000</td>\n",
       "      <td>25.014590</td>\n",
       "      <td>121.566270</td>\n",
       "      <td>3.000000</td>\n",
       "      <td>1500.000000</td>\n",
       "      <td>117.500000</td>\n",
       "    </tr>\n",
       "  </tbody>\n",
       "</table>\n",
       "</div>"
      ],
      "text/plain": [
       "       Transaction date   House Age  Distance from nearest Metro station (km)  \\\n",
       "count        414.000000  414.000000                                414.000000   \n",
       "mean        2013.148953   17.712560                               1083.885689   \n",
       "std            0.281995   11.392485                               1262.109595   \n",
       "min         2012.666667    0.000000                                 23.382840   \n",
       "25%         2012.916667    9.025000                                289.324800   \n",
       "50%         2013.166667   16.100000                                492.231300   \n",
       "75%         2013.416667   28.150000                               1454.279000   \n",
       "max         2013.583333   43.800000                               6488.021000   \n",
       "\n",
       "       Number of convenience stores    latitude   longitude  \\\n",
       "count                    414.000000  414.000000  414.000000   \n",
       "mean                       4.094203   24.969030  121.533361   \n",
       "std                        2.945562    0.012410    0.015347   \n",
       "min                        0.000000   24.932070  121.473530   \n",
       "25%                        1.000000   24.963000  121.528085   \n",
       "50%                        4.000000   24.971100  121.538630   \n",
       "75%                        6.000000   24.977455  121.543305   \n",
       "max                       10.000000   25.014590  121.566270   \n",
       "\n",
       "       Number of bedrooms  House size (sqft)  House price of unit area  \n",
       "count          414.000000         414.000000                414.000000  \n",
       "mean             1.987923         931.475845                 37.980193  \n",
       "std              0.818875         348.910269                 13.606488  \n",
       "min              1.000000         402.000000                  7.600000  \n",
       "25%              1.000000         548.000000                 27.700000  \n",
       "50%              2.000000         975.000000                 38.450000  \n",
       "75%              3.000000        1234.750000                 46.600000  \n",
       "max              3.000000        1500.000000                117.500000  "
      ]
     },
     "execution_count": 4,
     "metadata": {},
     "output_type": "execute_result"
    }
   ],
   "source": [
    "df.describe()"
   ]
  },
  {
   "cell_type": "code",
   "execution_count": 5,
   "id": "60046d03",
   "metadata": {},
   "outputs": [],
   "source": [
    "%matplotlib inline\n",
    "import matplotlib.pyplot as plt"
   ]
  },
  {
   "cell_type": "code",
   "execution_count": 6,
   "id": "bca7c0ff",
   "metadata": {},
   "outputs": [
    {
     "data": {
      "text/plain": [
       "array([[<AxesSubplot: title={'center': 'Transaction date'}>,\n",
       "        <AxesSubplot: title={'center': 'House Age'}>,\n",
       "        <AxesSubplot: title={'center': 'Distance from nearest Metro station (km)'}>],\n",
       "       [<AxesSubplot: title={'center': 'Number of convenience stores'}>,\n",
       "        <AxesSubplot: title={'center': 'latitude'}>,\n",
       "        <AxesSubplot: title={'center': 'longitude'}>],\n",
       "       [<AxesSubplot: title={'center': 'Number of bedrooms'}>,\n",
       "        <AxesSubplot: title={'center': 'House size (sqft)'}>,\n",
       "        <AxesSubplot: title={'center': 'House price of unit area'}>]],\n",
       "      dtype=object)"
      ]
     },
     "execution_count": 6,
     "metadata": {},
     "output_type": "execute_result"
    },
    {
     "data": {
      "image/png": "[encoded data removed]",
      "text/plain": [
       "<Figure size 2000x1500 with 9 Axes>"
      ]
     },
     "metadata": {},
     "output_type": "display_data"
    }
   ],
   "source": [
    "#distribution of all features\n",
    "df.hist(bins=50, figsize=(20, 15))"
   ]
  },
  {
   "cell_type": "code",
   "execution_count": 7,
   "id": "cd0bae14",
   "metadata": {},
   "outputs": [
    {
     "data": {
      "text/plain": [
       "Transaction date                            0\n",
       "House Age                                   0\n",
       "Distance from nearest Metro station (km)    0\n",
       "Number of convenience stores                0\n",
       "latitude                                    0\n",
       "longitude                                   0\n",
       "Number of bedrooms                          0\n",
       "House size (sqft)                           0\n",
       "House price of unit area                    0\n",
       "dtype: int64"
      ]
     },
     "execution_count": 7,
     "metadata": {},
     "output_type": "execute_result"
    }
   ],
   "source": [
    "#sum of null values feature wise\n",
    "df.isnull().sum()"
   ]
  },
  {
   "cell_type": "markdown",
   "id": "5e488dc2",
   "metadata": {},
   "source": [
    "**three is no null values**"
   ]
  },
  {
   "cell_type": "markdown",
   "id": "b693792a",
   "metadata": {},
   "source": [
    "## univariate Analysis"
   ]
  },
  {
   "cell_type": "code",
   "execution_count": 8,
   "id": "1a23c814",
   "metadata": {},
   "outputs": [
    {
     "data": {
      "text/plain": [
       "array([10,  9,  5,  3,  7,  6,  1,  4,  2,  8,  0], dtype=int64)"
      ]
     },
     "execution_count": 8,
     "metadata": {},
     "output_type": "execute_result"
    }
   ],
   "source": [
    "df['Number of convenience stores'].unique()"
   ]
  },
  {
   "cell_type": "code",
   "execution_count": 9,
   "id": "eab1ff45",
   "metadata": {},
   "outputs": [
    {
     "data": {
      "text/plain": [
       "array([32. , 19.5, 13.3,  5. ,  7.1, 34.5, 20.3, 31.7, 17.9, 34.8,  6.3,\n",
       "       13. , 20.4, 13.2, 35.7,  0. , 17.7, 16.9,  1.5,  4.5, 10.5, 14.7,\n",
       "       10.1, 39.6, 29.3,  3.1, 10.4, 19.2, 25.9, 29.6, 37.9, 16.5, 15.4,\n",
       "       13.9, 12. , 16.2, 13.6, 16.8, 36.1, 34.4,  2.7, 36.6, 21.7, 35.9,\n",
       "       24.2, 29.4, 31.3, 32.1, 16.1, 33.6,  3.5, 30.3, 11. ,  5.3, 17.2,\n",
       "        2.6, 17.5, 40.1,  1. ,  8.5, 30.4, 12.5,  6.6, 35.5, 32.5, 13.8,\n",
       "        6.8, 12.3, 20.5, 38.2, 18. , 11.8, 30.8, 25.3, 15.1,  1.8,  8.9,\n",
       "       23. ,  9.1, 20.6, 31.9, 40.9,  8. ,  6.4, 28.4, 16.4, 12.7,  1.1,\n",
       "       32.7, 12.2, 31.4,  4. ,  8.1, 33.3,  9.9, 14.8, 30.6, 30.9, 16.6,\n",
       "       31.5, 38.6,  3.8, 41.3, 38.5, 26.6, 33.4, 18.9, 11.4, 10. , 12.9,\n",
       "        5.1, 19.8, 11.9,  2.1,  3.2, 34.9, 35.8,  4.9,  6.5, 30.7, 11.6,\n",
       "       15.5, 16. , 13.7, 28.2, 27.6,  8.4, 24. ,  3.6,  4.3, 30.2, 33. ,\n",
       "       13.1, 14. , 26.9, 13.5, 17. , 14.1, 20.9, 16.3, 35.3, 43.8,  9.7,\n",
       "       15.2, 22.8, 34. , 18.2, 17.4, 38.3, 15.6, 12.8, 22.2, 11.5,  5.2,\n",
       "       17.6,  6.2, 18.1, 37.8, 28. , 37.2,  9. , 32.4, 31. , 27.1, 39.7,\n",
       "        2. , 32.8,  4.8,  7.5, 19. , 39.2,  5.9, 14.6, 17.3, 15.9,  3.9,\n",
       "       32.6, 15.7, 17.8, 34.7, 10.8, 27.5, 19.1, 21.2,  2.3,  4.7, 33.5,\n",
       "       15. , 30.1, 37.7,  3.4, 12.6, 26.4, 16.7, 33.2,  2.5, 38. , 20. ,\n",
       "       14.4, 10.3, 21.3, 35.4,  8.3,  3.7, 34.6, 28.6, 12.4,  4.1, 25.6,\n",
       "       39.8,  7.8, 30. , 27.3,  1.7,  5.7,  4.6, 18.4,  5.6, 32.9, 41.4,\n",
       "       17.1, 32.3, 14.2, 20.2, 33.9,  5.4, 37.3, 29.1, 18.3, 42.7, 37.1,\n",
       "       26.8,  7.6,  1.9, 18.5, 18.8])"
      ]
     },
     "execution_count": 9,
     "metadata": {},
     "output_type": "execute_result"
    }
   ],
   "source": [
    "df['House Age'].unique()"
   ]
  },
  {
   "cell_type": "code",
   "execution_count": 10,
   "id": "6f6e7f12",
   "metadata": {},
   "outputs": [
    {
     "data": {
      "text/plain": [
       "array([1, 2, 3], dtype=int64)"
      ]
     },
     "execution_count": 10,
     "metadata": {},
     "output_type": "execute_result"
    }
   ],
   "source": [
    "df['Number of bedrooms'].unique()"
   ]
  },
  {
   "cell_type": "code",
   "execution_count": 11,
   "id": "2261e2a2",
   "metadata": {},
   "outputs": [
    {
     "data": {
      "text/plain": [
       "count    414.000000\n",
       "mean      37.980193\n",
       "std       13.606488\n",
       "min        7.600000\n",
       "25%       27.700000\n",
       "50%       38.450000\n",
       "75%       46.600000\n",
       "max      117.500000\n",
       "Name: House price of unit area, dtype: float64"
      ]
     },
     "execution_count": 11,
     "metadata": {},
     "output_type": "execute_result"
    }
   ],
   "source": [
    "df['House price of unit area'].describe()"
   ]
  },
  {
   "cell_type": "markdown",
   "id": "f2b0565e",
   "metadata": {},
   "source": [
    "**outlier**"
   ]
  },
  {
   "cell_type": "code",
   "execution_count": 12,
   "id": "725ea6c2",
   "metadata": {},
   "outputs": [],
   "source": [
    "import seaborn as sns"
   ]
  },
  {
   "cell_type": "code",
   "execution_count": 13,
   "id": "35aa4abd",
   "metadata": {},
   "outputs": [
    {
     "data": {
      "text/plain": [
       "<AxesSubplot: >"
      ]
     },
     "execution_count": 13,
     "metadata": {},
     "output_type": "execute_result"
    },
    {
     "data": {
      "image/png": "[encoded data removed]",
      "text/plain": [
       "<Figure size 640x480 with 1 Axes>"
      ]
     },
     "metadata": {},
     "output_type": "display_data"
    }
   ],
   "source": [
    "#ploting box plot for checking outliers\n",
    "sns.boxplot(df['House price of unit area'])"
   ]
  },
  {
   "cell_type": "code",
   "execution_count": 14,
   "id": "ba851bb3",
   "metadata": {},
   "outputs": [
    {
     "data": {
      "text/plain": [
       "<AxesSubplot: >"
      ]
     },
     "execution_count": 14,
     "metadata": {},
     "output_type": "execute_result"
    },
    {
     "data": {
      "image/png": "[encoded data removed]",
      "text/plain": [
       "<Figure size 640x480 with 1 Axes>"
      ]
     },
     "metadata": {},
     "output_type": "display_data"
    }
   ],
   "source": [
    "sns.boxplot(df['House Age'])"
   ]
  },
  {
   "cell_type": "markdown",
   "id": "59486ef4",
   "metadata": {},
   "source": [
    "**there is no outlier**"
   ]
  },
  {
   "cell_type": "code",
   "execution_count": 15,
   "id": "696c470d",
   "metadata": {},
   "outputs": [
    {
     "data": {
      "text/plain": [
       "234"
      ]
     },
     "execution_count": 15,
     "metadata": {},
     "output_type": "execute_result"
    }
   ],
   "source": [
    "len(df['latitude'].unique())"
   ]
  },
  {
   "cell_type": "markdown",
   "id": "cfd08bac",
   "metadata": {},
   "source": [
    "### correlation"
   ]
  },
  {
   "cell_type": "code",
   "execution_count": 16,
   "id": "3cd72702",
   "metadata": {},
   "outputs": [
    {
     "data": {
      "text/plain": [
       "House price of unit area                    1.000000\n",
       "Number of convenience stores                0.571005\n",
       "latitude                                    0.546307\n",
       "longitude                                   0.523287\n",
       "Transaction date                            0.087529\n",
       "Number of bedrooms                          0.050265\n",
       "House size (sqft)                           0.046489\n",
       "House Age                                  -0.210567\n",
       "Distance from nearest Metro station (km)   -0.673613\n",
       "Name: House price of unit area, dtype: float64"
      ]
     },
     "execution_count": 16,
     "metadata": {},
     "output_type": "execute_result"
    }
   ],
   "source": [
    "#checking correlation between features \n",
    "corr_matrix = df.corr()\n",
    "corr_matrix[\"House price of unit area\"].sort_values(ascending=False)"
   ]
  },
  {
   "cell_type": "code",
   "execution_count": 17,
   "id": "cea49587",
   "metadata": {},
   "outputs": [
    {
     "data": {
      "text/plain": [
       "<function matplotlib.pyplot.show(close=None, block=None)>"
      ]
     },
     "execution_count": 17,
     "metadata": {},
     "output_type": "execute_result"
    },
    {
     "data": {
      "image/png": "[encoded data removed]",
      "text/plain": [
       "<Figure size 800x1000 with 2 Axes>"
      ]
     },
     "metadata": {},
     "output_type": "display_data"
    }
   ],
   "source": [
    "#correlation visual using heatmap\n",
    "plt.figure(figsize=(8,10))\n",
    "sns.heatmap(df.corr(),annot=True, linewidths=2)\n",
    "plt.show"
   ]
  },
  {
   "cell_type": "markdown",
   "id": "b75ba151",
   "metadata": {},
   "source": [
    "**Distance from nearest Metro station (km), Number of convenience stores and latitude are highly correleted**"
   ]
  },
  {
   "cell_type": "markdown",
   "id": "0e964cdf",
   "metadata": {},
   "source": [
    "## Assumption of linear regrassion\n",
    "***\n",
    "**1. the target and independent variable should a linear relation between them**\n",
    "\n",
    "**2. If it is not linear we convert it into linear by using variable transformation using operation such as x-squre, root-x, or log x**\n",
    "\n",
    "**3. there should not multicolinearity**\n",
    "\n",
    "**4. muticolinearity = correlation between independent variable is called multicolinearity**\n",
    "\n",
    "**5. we will remove this using VIF**"
   ]
  },
  {
   "cell_type": "markdown",
   "id": "5ed7d6b6",
   "metadata": {},
   "source": [
    "**multicolinearity**"
   ]
  },
  {
   "cell_type": "code",
   "execution_count": 18,
   "id": "cc01ad70",
   "metadata": {},
   "outputs": [],
   "source": [
    "from statsmodels.stats.outliers_influence import variance_inflation_factor"
   ]
  },
  {
   "cell_type": "code",
   "execution_count": 19,
   "id": "f170947f",
   "metadata": {},
   "outputs": [
    {
     "data": {
      "text/html": [
       "<div>\n",
       "<style scoped>\n",
       "    .dataframe tbody tr th:only-of-type {\n",
       "        vertical-align: middle;\n",
       "    }\n",
       "\n",
       "    .dataframe tbody tr th {\n",
       "        vertical-align: top;\n",
       "    }\n",
       "\n",
       "    .dataframe thead th {\n",
       "        text-align: right;\n",
       "    }\n",
       "</style>\n",
       "<table border=\"1\" class=\"dataframe\">\n",
       "  <thead>\n",
       "    <tr style=\"text-align: right;\">\n",
       "      <th></th>\n",
       "      <th>Transaction date</th>\n",
       "      <th>House Age</th>\n",
       "      <th>Distance from nearest Metro station (km)</th>\n",
       "      <th>Number of convenience stores</th>\n",
       "      <th>latitude</th>\n",
       "      <th>longitude</th>\n",
       "      <th>Number of bedrooms</th>\n",
       "      <th>House size (sqft)</th>\n",
       "    </tr>\n",
       "  </thead>\n",
       "  <tbody>\n",
       "    <tr>\n",
       "      <th>0</th>\n",
       "      <td>2012.916667</td>\n",
       "      <td>32.0</td>\n",
       "      <td>84.87882</td>\n",
       "      <td>10</td>\n",
       "      <td>24.98298</td>\n",
       "      <td>121.54024</td>\n",
       "      <td>1</td>\n",
       "      <td>575</td>\n",
       "    </tr>\n",
       "    <tr>\n",
       "      <th>1</th>\n",
       "      <td>2012.916667</td>\n",
       "      <td>19.5</td>\n",
       "      <td>306.59470</td>\n",
       "      <td>9</td>\n",
       "      <td>24.98034</td>\n",
       "      <td>121.53951</td>\n",
       "      <td>2</td>\n",
       "      <td>1240</td>\n",
       "    </tr>\n",
       "    <tr>\n",
       "      <th>2</th>\n",
       "      <td>2013.583333</td>\n",
       "      <td>13.3</td>\n",
       "      <td>561.98450</td>\n",
       "      <td>5</td>\n",
       "      <td>24.98746</td>\n",
       "      <td>121.54391</td>\n",
       "      <td>3</td>\n",
       "      <td>1060</td>\n",
       "    </tr>\n",
       "    <tr>\n",
       "      <th>3</th>\n",
       "      <td>2013.500000</td>\n",
       "      <td>13.3</td>\n",
       "      <td>561.98450</td>\n",
       "      <td>5</td>\n",
       "      <td>24.98746</td>\n",
       "      <td>121.54391</td>\n",
       "      <td>2</td>\n",
       "      <td>875</td>\n",
       "    </tr>\n",
       "    <tr>\n",
       "      <th>4</th>\n",
       "      <td>2012.833333</td>\n",
       "      <td>5.0</td>\n",
       "      <td>390.56840</td>\n",
       "      <td>5</td>\n",
       "      <td>24.97937</td>\n",
       "      <td>121.54245</td>\n",
       "      <td>1</td>\n",
       "      <td>491</td>\n",
       "    </tr>\n",
       "    <tr>\n",
       "      <th>...</th>\n",
       "      <td>...</td>\n",
       "      <td>...</td>\n",
       "      <td>...</td>\n",
       "      <td>...</td>\n",
       "      <td>...</td>\n",
       "      <td>...</td>\n",
       "      <td>...</td>\n",
       "      <td>...</td>\n",
       "    </tr>\n",
       "    <tr>\n",
       "      <th>409</th>\n",
       "      <td>2013.000000</td>\n",
       "      <td>13.7</td>\n",
       "      <td>4082.01500</td>\n",
       "      <td>0</td>\n",
       "      <td>24.94155</td>\n",
       "      <td>121.50381</td>\n",
       "      <td>3</td>\n",
       "      <td>803</td>\n",
       "    </tr>\n",
       "    <tr>\n",
       "      <th>410</th>\n",
       "      <td>2012.666667</td>\n",
       "      <td>5.6</td>\n",
       "      <td>90.45606</td>\n",
       "      <td>9</td>\n",
       "      <td>24.97433</td>\n",
       "      <td>121.54310</td>\n",
       "      <td>2</td>\n",
       "      <td>1278</td>\n",
       "    </tr>\n",
       "    <tr>\n",
       "      <th>411</th>\n",
       "      <td>2013.250000</td>\n",
       "      <td>18.8</td>\n",
       "      <td>390.96960</td>\n",
       "      <td>7</td>\n",
       "      <td>24.97923</td>\n",
       "      <td>121.53986</td>\n",
       "      <td>1</td>\n",
       "      <td>503</td>\n",
       "    </tr>\n",
       "    <tr>\n",
       "      <th>412</th>\n",
       "      <td>2013.000000</td>\n",
       "      <td>8.1</td>\n",
       "      <td>104.81010</td>\n",
       "      <td>5</td>\n",
       "      <td>24.96674</td>\n",
       "      <td>121.54067</td>\n",
       "      <td>1</td>\n",
       "      <td>597</td>\n",
       "    </tr>\n",
       "    <tr>\n",
       "      <th>413</th>\n",
       "      <td>2013.500000</td>\n",
       "      <td>6.5</td>\n",
       "      <td>90.45606</td>\n",
       "      <td>9</td>\n",
       "      <td>24.97433</td>\n",
       "      <td>121.54310</td>\n",
       "      <td>2</td>\n",
       "      <td>1097</td>\n",
       "    </tr>\n",
       "  </tbody>\n",
       "</table>\n",
       "<p>414 rows × 8 columns</p>\n",
       "</div>"
      ],
      "text/plain": [
       "     Transaction date  House Age  Distance from nearest Metro station (km)  \\\n",
       "0         2012.916667       32.0                                  84.87882   \n",
       "1         2012.916667       19.5                                 306.59470   \n",
       "2         2013.583333       13.3                                 561.98450   \n",
       "3         2013.500000       13.3                                 561.98450   \n",
       "4         2012.833333        5.0                                 390.56840   \n",
       "..                ...        ...                                       ...   \n",
       "409       2013.000000       13.7                                4082.01500   \n",
       "410       2012.666667        5.6                                  90.45606   \n",
       "411       2013.250000       18.8                                 390.96960   \n",
       "412       2013.000000        8.1                                 104.81010   \n",
       "413       2013.500000        6.5                                  90.45606   \n",
       "\n",
       "     Number of convenience stores  latitude  longitude  Number of bedrooms  \\\n",
       "0                              10  24.98298  121.54024                   1   \n",
       "1                               9  24.98034  121.53951                   2   \n",
       "2                               5  24.98746  121.54391                   3   \n",
       "3                               5  24.98746  121.54391                   2   \n",
       "4                               5  24.97937  121.54245                   1   \n",
       "..                            ...       ...        ...                 ...   \n",
       "409                             0  24.94155  121.50381                   3   \n",
       "410                             9  24.97433  121.54310                   2   \n",
       "411                             7  24.97923  121.53986                   1   \n",
       "412                             5  24.96674  121.54067                   1   \n",
       "413                             9  24.97433  121.54310                   2   \n",
       "\n",
       "     House size (sqft)  \n",
       "0                  575  \n",
       "1                 1240  \n",
       "2                 1060  \n",
       "3                  875  \n",
       "4                  491  \n",
       "..                 ...  \n",
       "409                803  \n",
       "410               1278  \n",
       "411                503  \n",
       "412                597  \n",
       "413               1097  \n",
       "\n",
       "[414 rows x 8 columns]"
      ]
     },
     "execution_count": 19,
     "metadata": {},
     "output_type": "execute_result"
    }
   ],
   "source": [
    "data= df.iloc[:,:-1]\n",
    "data"
   ]
  },
  {
   "cell_type": "code",
   "execution_count": 20,
   "id": "62f110ed",
   "metadata": {},
   "outputs": [
    {
     "data": {
      "text/plain": [
       "Transaction date                            4.264162e+07\n",
       "House Age                                   3.500035e+00\n",
       "Distance from nearest Metro station (km)    4.287569e+00\n",
       "Number of convenience stores                4.758596e+00\n",
       "latitude                                    6.184837e+06\n",
       "longitude                                   4.212056e+07\n",
       "Number of bedrooms                          1.607817e+01\n",
       "House size (sqft)                           1.902631e+01\n",
       "dtype: float64"
      ]
     },
     "execution_count": 20,
     "metadata": {},
     "output_type": "execute_result"
    }
   ],
   "source": [
    "pd.Series([variance_inflation_factor(data.values,i) for i in range (data.shape[1])], index=data.columns)"
   ]
  },
  {
   "cell_type": "markdown",
   "id": "810a6462",
   "metadata": {},
   "source": [
    "**there is no multi colinearity because VIF is less then 5**"
   ]
  },
  {
   "cell_type": "markdown",
   "id": "0792b284",
   "metadata": {},
   "source": [
    "## data preprocessing"
   ]
  },
  {
   "cell_type": "markdown",
   "id": "91033454",
   "metadata": {},
   "source": [
    "**train test split**"
   ]
  },
  {
   "cell_type": "code",
   "execution_count": 21,
   "id": "bb8def7d",
   "metadata": {},
   "outputs": [],
   "source": [
    "x = df.iloc[:,:-1]\n",
    "y = df.iloc[:,-1]"
   ]
  },
  {
   "cell_type": "code",
   "execution_count": 22,
   "id": "15259d0b",
   "metadata": {},
   "outputs": [
    {
     "data": {
      "text/html": [
       "<div>\n",
       "<style scoped>\n",
       "    .dataframe tbody tr th:only-of-type {\n",
       "        vertical-align: middle;\n",
       "    }\n",
       "\n",
       "    .dataframe tbody tr th {\n",
       "        vertical-align: top;\n",
       "    }\n",
       "\n",
       "    .dataframe thead th {\n",
       "        text-align: right;\n",
       "    }\n",
       "</style>\n",
       "<table border=\"1\" class=\"dataframe\">\n",
       "  <thead>\n",
       "    <tr style=\"text-align: right;\">\n",
       "      <th></th>\n",
       "      <th>Transaction date</th>\n",
       "      <th>House Age</th>\n",
       "      <th>Distance from nearest Metro station (km)</th>\n",
       "      <th>Number of convenience stores</th>\n",
       "      <th>latitude</th>\n",
       "      <th>longitude</th>\n",
       "      <th>Number of bedrooms</th>\n",
       "      <th>House size (sqft)</th>\n",
       "    </tr>\n",
       "  </thead>\n",
       "  <tbody>\n",
       "    <tr>\n",
       "      <th>0</th>\n",
       "      <td>2012.916667</td>\n",
       "      <td>32.0</td>\n",
       "      <td>84.87882</td>\n",
       "      <td>10</td>\n",
       "      <td>24.98298</td>\n",
       "      <td>121.54024</td>\n",
       "      <td>1</td>\n",
       "      <td>575</td>\n",
       "    </tr>\n",
       "    <tr>\n",
       "      <th>1</th>\n",
       "      <td>2012.916667</td>\n",
       "      <td>19.5</td>\n",
       "      <td>306.59470</td>\n",
       "      <td>9</td>\n",
       "      <td>24.98034</td>\n",
       "      <td>121.53951</td>\n",
       "      <td>2</td>\n",
       "      <td>1240</td>\n",
       "    </tr>\n",
       "    <tr>\n",
       "      <th>2</th>\n",
       "      <td>2013.583333</td>\n",
       "      <td>13.3</td>\n",
       "      <td>561.98450</td>\n",
       "      <td>5</td>\n",
       "      <td>24.98746</td>\n",
       "      <td>121.54391</td>\n",
       "      <td>3</td>\n",
       "      <td>1060</td>\n",
       "    </tr>\n",
       "    <tr>\n",
       "      <th>3</th>\n",
       "      <td>2013.500000</td>\n",
       "      <td>13.3</td>\n",
       "      <td>561.98450</td>\n",
       "      <td>5</td>\n",
       "      <td>24.98746</td>\n",
       "      <td>121.54391</td>\n",
       "      <td>2</td>\n",
       "      <td>875</td>\n",
       "    </tr>\n",
       "    <tr>\n",
       "      <th>4</th>\n",
       "      <td>2012.833333</td>\n",
       "      <td>5.0</td>\n",
       "      <td>390.56840</td>\n",
       "      <td>5</td>\n",
       "      <td>24.97937</td>\n",
       "      <td>121.54245</td>\n",
       "      <td>1</td>\n",
       "      <td>491</td>\n",
       "    </tr>\n",
       "  </tbody>\n",
       "</table>\n",
       "</div>"
      ],
      "text/plain": [
       "   Transaction date  House Age  Distance from nearest Metro station (km)  \\\n",
       "0       2012.916667       32.0                                  84.87882   \n",
       "1       2012.916667       19.5                                 306.59470   \n",
       "2       2013.583333       13.3                                 561.98450   \n",
       "3       2013.500000       13.3                                 561.98450   \n",
       "4       2012.833333        5.0                                 390.56840   \n",
       "\n",
       "   Number of convenience stores  latitude  longitude  Number of bedrooms  \\\n",
       "0                            10  24.98298  121.54024                   1   \n",
       "1                             9  24.98034  121.53951                   2   \n",
       "2                             5  24.98746  121.54391                   3   \n",
       "3                             5  24.98746  121.54391                   2   \n",
       "4                             5  24.97937  121.54245                   1   \n",
       "\n",
       "   House size (sqft)  \n",
       "0                575  \n",
       "1               1240  \n",
       "2               1060  \n",
       "3                875  \n",
       "4                491  "
      ]
     },
     "execution_count": 22,
     "metadata": {},
     "output_type": "execute_result"
    }
   ],
   "source": [
    "x.head()"
   ]
  },
  {
   "cell_type": "code",
   "execution_count": 23,
   "id": "4f714162",
   "metadata": {},
   "outputs": [
    {
     "data": {
      "text/plain": [
       "0      37.9\n",
       "1      42.2\n",
       "2      47.3\n",
       "3      54.8\n",
       "4      43.1\n",
       "       ... \n",
       "409    15.4\n",
       "410    50.0\n",
       "411    40.6\n",
       "412    52.5\n",
       "413    63.9\n",
       "Name: House price of unit area, Length: 414, dtype: float64"
      ]
     },
     "execution_count": 23,
     "metadata": {},
     "output_type": "execute_result"
    }
   ],
   "source": [
    "y"
   ]
  },
  {
   "cell_type": "code",
   "execution_count": 24,
   "id": "d44df2c9",
   "metadata": {},
   "outputs": [],
   "source": [
    "#train_test_split\n",
    "from sklearn.model_selection import train_test_split\n",
    "x_train, x_test, y_train, y_test = train_test_split(x,y, test_size=0.25, random_state=0)"
   ]
  },
  {
   "cell_type": "markdown",
   "id": "567ace19",
   "metadata": {},
   "source": [
    "**standard scaler**"
   ]
  },
  {
   "cell_type": "code",
   "execution_count": 25,
   "id": "38271534",
   "metadata": {},
   "outputs": [
    {
     "data": {
      "text/html": [
       "<div>\n",
       "<style scoped>\n",
       "    .dataframe tbody tr th:only-of-type {\n",
       "        vertical-align: middle;\n",
       "    }\n",
       "\n",
       "    .dataframe tbody tr th {\n",
       "        vertical-align: top;\n",
       "    }\n",
       "\n",
       "    .dataframe thead th {\n",
       "        text-align: right;\n",
       "    }\n",
       "</style>\n",
       "<table border=\"1\" class=\"dataframe\">\n",
       "  <thead>\n",
       "    <tr style=\"text-align: right;\">\n",
       "      <th></th>\n",
       "      <th>Transaction date</th>\n",
       "      <th>House Age</th>\n",
       "      <th>Distance from nearest Metro station (km)</th>\n",
       "      <th>Number of convenience stores</th>\n",
       "      <th>latitude</th>\n",
       "      <th>longitude</th>\n",
       "      <th>Number of bedrooms</th>\n",
       "      <th>House size (sqft)</th>\n",
       "    </tr>\n",
       "  </thead>\n",
       "  <tbody>\n",
       "    <tr>\n",
       "      <th>322</th>\n",
       "      <td>2013.000000</td>\n",
       "      <td>12.9</td>\n",
       "      <td>187.48230</td>\n",
       "      <td>1</td>\n",
       "      <td>24.97388</td>\n",
       "      <td>121.52981</td>\n",
       "      <td>1</td>\n",
       "      <td>480</td>\n",
       "    </tr>\n",
       "    <tr>\n",
       "      <th>208</th>\n",
       "      <td>2012.750000</td>\n",
       "      <td>11.5</td>\n",
       "      <td>1360.13900</td>\n",
       "      <td>1</td>\n",
       "      <td>24.95204</td>\n",
       "      <td>121.54842</td>\n",
       "      <td>1</td>\n",
       "      <td>452</td>\n",
       "    </tr>\n",
       "    <tr>\n",
       "      <th>56</th>\n",
       "      <td>2013.416667</td>\n",
       "      <td>33.6</td>\n",
       "      <td>371.24950</td>\n",
       "      <td>8</td>\n",
       "      <td>24.97254</td>\n",
       "      <td>121.54059</td>\n",
       "      <td>3</td>\n",
       "      <td>883</td>\n",
       "    </tr>\n",
       "    <tr>\n",
       "      <th>8</th>\n",
       "      <td>2013.500000</td>\n",
       "      <td>31.7</td>\n",
       "      <td>5512.03800</td>\n",
       "      <td>1</td>\n",
       "      <td>24.95095</td>\n",
       "      <td>121.48458</td>\n",
       "      <td>1</td>\n",
       "      <td>588</td>\n",
       "    </tr>\n",
       "    <tr>\n",
       "      <th>312</th>\n",
       "      <td>2013.583333</td>\n",
       "      <td>35.4</td>\n",
       "      <td>318.52920</td>\n",
       "      <td>9</td>\n",
       "      <td>24.97071</td>\n",
       "      <td>121.54069</td>\n",
       "      <td>1</td>\n",
       "      <td>433</td>\n",
       "    </tr>\n",
       "    <tr>\n",
       "      <th>...</th>\n",
       "      <td>...</td>\n",
       "      <td>...</td>\n",
       "      <td>...</td>\n",
       "      <td>...</td>\n",
       "      <td>...</td>\n",
       "      <td>...</td>\n",
       "      <td>...</td>\n",
       "      <td>...</td>\n",
       "    </tr>\n",
       "    <tr>\n",
       "      <th>323</th>\n",
       "      <td>2013.416667</td>\n",
       "      <td>28.6</td>\n",
       "      <td>197.13380</td>\n",
       "      <td>6</td>\n",
       "      <td>24.97631</td>\n",
       "      <td>121.54436</td>\n",
       "      <td>1</td>\n",
       "      <td>594</td>\n",
       "    </tr>\n",
       "    <tr>\n",
       "      <th>192</th>\n",
       "      <td>2013.166667</td>\n",
       "      <td>43.8</td>\n",
       "      <td>57.58945</td>\n",
       "      <td>7</td>\n",
       "      <td>24.96750</td>\n",
       "      <td>121.54069</td>\n",
       "      <td>3</td>\n",
       "      <td>1000</td>\n",
       "    </tr>\n",
       "    <tr>\n",
       "      <th>117</th>\n",
       "      <td>2013.000000</td>\n",
       "      <td>13.6</td>\n",
       "      <td>4197.34900</td>\n",
       "      <td>0</td>\n",
       "      <td>24.93885</td>\n",
       "      <td>121.50383</td>\n",
       "      <td>3</td>\n",
       "      <td>1207</td>\n",
       "    </tr>\n",
       "    <tr>\n",
       "      <th>47</th>\n",
       "      <td>2013.583333</td>\n",
       "      <td>35.9</td>\n",
       "      <td>640.73910</td>\n",
       "      <td>3</td>\n",
       "      <td>24.97563</td>\n",
       "      <td>121.53715</td>\n",
       "      <td>3</td>\n",
       "      <td>867</td>\n",
       "    </tr>\n",
       "    <tr>\n",
       "      <th>172</th>\n",
       "      <td>2013.583333</td>\n",
       "      <td>6.6</td>\n",
       "      <td>90.45606</td>\n",
       "      <td>9</td>\n",
       "      <td>24.97433</td>\n",
       "      <td>121.54310</td>\n",
       "      <td>3</td>\n",
       "      <td>842</td>\n",
       "    </tr>\n",
       "  </tbody>\n",
       "</table>\n",
       "<p>310 rows × 8 columns</p>\n",
       "</div>"
      ],
      "text/plain": [
       "     Transaction date  House Age  Distance from nearest Metro station (km)  \\\n",
       "322       2013.000000       12.9                                 187.48230   \n",
       "208       2012.750000       11.5                                1360.13900   \n",
       "56        2013.416667       33.6                                 371.24950   \n",
       "8         2013.500000       31.7                                5512.03800   \n",
       "312       2013.583333       35.4                                 318.52920   \n",
       "..                ...        ...                                       ...   \n",
       "323       2013.416667       28.6                                 197.13380   \n",
       "192       2013.166667       43.8                                  57.58945   \n",
       "117       2013.000000       13.6                                4197.34900   \n",
       "47        2013.583333       35.9                                 640.73910   \n",
       "172       2013.583333        6.6                                  90.45606   \n",
       "\n",
       "     Number of convenience stores  latitude  longitude  Number of bedrooms  \\\n",
       "322                             1  24.97388  121.52981                   1   \n",
       "208                             1  24.95204  121.54842                   1   \n",
       "56                              8  24.97254  121.54059                   3   \n",
       "8                               1  24.95095  121.48458                   1   \n",
       "312                             9  24.97071  121.54069                   1   \n",
       "..                            ...       ...        ...                 ...   \n",
       "323                             6  24.97631  121.54436                   1   \n",
       "192                             7  24.96750  121.54069                   3   \n",
       "117                             0  24.93885  121.50383                   3   \n",
       "47                              3  24.97563  121.53715                   3   \n",
       "172                             9  24.97433  121.54310                   3   \n",
       "\n",
       "     House size (sqft)  \n",
       "322                480  \n",
       "208                452  \n",
       "56                 883  \n",
       "8                  588  \n",
       "312                433  \n",
       "..                 ...  \n",
       "323                594  \n",
       "192               1000  \n",
       "117               1207  \n",
       "47                 867  \n",
       "172                842  \n",
       "\n",
       "[310 rows x 8 columns]"
      ]
     },
     "execution_count": 25,
     "metadata": {},
     "output_type": "execute_result"
    }
   ],
   "source": [
    "x_train"
   ]
  },
  {
   "cell_type": "code",
   "execution_count": 26,
   "id": "5be155b3",
   "metadata": {},
   "outputs": [],
   "source": [
    "from sklearn.preprocessing import StandardScaler\n",
    "scalar = StandardScaler()\n",
    "x_train = scalar.fit_transform(x_train)\n",
    "x_test = scalar.transform(x_test)"
   ]
  },
  {
   "cell_type": "code",
   "execution_count": 27,
   "id": "9aea746c",
   "metadata": {},
   "outputs": [],
   "source": [
    "import pickle\n",
    "pickle.dump(scalar,open('scaling.pkl','wb'))"
   ]
  },
  {
   "cell_type": "code",
   "execution_count": 29,
   "id": "70b767d3",
   "metadata": {},
   "outputs": [],
   "source": [
    "x_train=scalar.fit_transform(x_train)\n",
    "x_test=scalar.fit_transform(x_test)"
   ]
  },
  {
   "cell_type": "code",
   "execution_count": 30,
   "id": "947e231b",
   "metadata": {},
   "outputs": [
    {
     "data": {
      "text/plain": [
       "array([[-1.07734381e+00, -6.99104365e-01, -6.45203402e-01,\n",
       "        -1.05456341e+00,  4.65343809e-01, -2.89818997e-01,\n",
       "        -1.21889880e+00, -1.44420034e+00],\n",
       "       [ 6.82505559e-01,  4.81509478e-01,  2.91789389e+00,\n",
       "        -1.38391654e+00, -1.92188280e+00, -2.51640729e+00,\n",
       "        -3.10949685e-17,  1.52648077e+00],\n",
       "       [ 6.82505559e-01,  1.38635950e+00, -5.51512521e-01,\n",
       "         5.92202274e-01,  8.19502614e-01,  4.83641366e-01,\n",
       "        -3.10949685e-17, -1.39161242e-01],\n",
       "       [ 6.82505559e-01,  6.19391387e-01,  2.91129229e+00,\n",
       "        -1.38391654e+00, -1.84605535e+00, -2.54348831e+00,\n",
       "        -1.21889880e+00, -1.43847649e+00],\n",
       "       [ 1.26912213e+00, -3.45781974e-01, -6.79434809e-01,\n",
       "        -1.05456341e+00,  4.22523601e-01, -3.03029251e-01,\n",
       "         1.21889880e+00,  1.07715810e+00],\n",
       "       [-1.97419123e-01,  1.56732951e+00, -4.16230155e-01,\n",
       "         1.25090855e+00,  1.06724565e-01,  6.97647479e-01,\n",
       "        -3.10949685e-17,  6.79350124e-01],\n",
       "       [ 3.89197449e-01,  1.49838856e+00, -6.78815016e-01,\n",
       "         9.21555410e-01, -1.57333385e-01,  5.49032123e-01,\n",
       "        -1.21889880e+00, -1.11221671e+00],\n",
       "       [-1.97419123e-01,  1.41221236e+00, -4.85247627e-01,\n",
       "        -1.05456341e+00,  4.04681847e-01, -4.34477628e-02,\n",
       "        -1.21889880e+00, -1.32399937e+00],\n",
       "       [ 9.75814021e-01, -6.81869127e-01, -5.89295517e-01,\n",
       "         9.21555410e-01,  5.64365540e-01,  7.28691576e-01,\n",
       "         1.21889880e+00,  1.62378632e+00],\n",
       "       [ 9.75814021e-01, -1.04488634e-01, -4.97337215e-01,\n",
       "         2.62849138e-01,  9.29229397e-01,  5.33179818e-01,\n",
       "        -3.10949685e-17, -2.42190644e-01],\n",
       "       [ 3.89197449e-01, -4.40575787e-01, -6.12856882e-01,\n",
       "         9.21555410e-01, -2.58139292e-01,  5.67526479e-01,\n",
       "        -3.10949685e-17,  1.08288195e+00],\n",
       "       [-1.97419123e-01, -4.40575787e-01, -5.42340036e-01,\n",
       "         2.62849138e-01, -9.98572058e-01,  1.46074923e-04,\n",
       "        -3.10949685e-17,  3.35918782e-01],\n",
       "       [-1.07734381e+00, -4.92281502e-01, -6.64986740e-01,\n",
       "        -1.05456341e+00,  4.39473266e-01, -3.01708226e-01,\n",
       "        -1.21889880e+00, -1.12080250e+00],\n",
       "       [-1.97419123e-01,  1.34327141e+00, -6.89650573e-01,\n",
       "         9.21555410e-01, -2.38513363e-01,  5.00814697e-01,\n",
       "         1.21889880e+00,  1.25745955e+00],\n",
       "       [-1.07734381e+00, -1.19030867e+00, -6.05402778e-01,\n",
       "         5.92202274e-01,  6.15214537e-01,  7.12178758e-01,\n",
       "         1.21889880e+00,  7.28002897e-01],\n",
       "       [ 1.56243024e+00,  1.50700617e+00, -3.10910732e-01,\n",
       "        -3.95857135e-01,  7.38322636e-01,  2.17454751e-01,\n",
       "        -3.10949685e-17,  9.54095198e-01],\n",
       "       [ 9.58893388e-02,  1.22262474e+00, -4.12236587e-01,\n",
       "         9.21555410e-01,  6.47964448e-02,  7.16141835e-01,\n",
       "         1.21889880e+00,  5.83117800e-02],\n",
       "       [-1.07734381e+00, -1.58671915e+00, -6.66681263e-01,\n",
       "        -1.38391654e+00,  1.91472894e-01, -1.76871327e-01,\n",
       "         1.21889880e+00,  1.09719159e+00],\n",
       "       [-7.84035344e-01, -4.66428644e-01, -4.13413516e-01,\n",
       "         2.62849138e-01, -3.39319270e-01,  1.97639370e-01,\n",
       "         1.21889880e+00,  6.96521691e-01],\n",
       "       [-7.84035344e-01,  1.41221236e+00, -6.62875994e-01,\n",
       "         1.25090855e+00,  7.24049233e-01,  5.77434169e-01,\n",
       "        -1.21889880e+00, -1.24958925e+00],\n",
       "       [-1.66396003e+00, -1.09551485e+00, -7.45082832e-01,\n",
       "         1.58026168e+00,  4.79617212e-01,  5.76113144e-01,\n",
       "        -1.21889880e+00, -1.24958925e+00],\n",
       "       [ 9.58893388e-02, -5.52604837e-01,  3.03052619e-01,\n",
       "        -1.05456341e+00, -1.50884621e+00,  9.27505896e-01,\n",
       "        -1.21889880e+00, -1.19521262e+00],\n",
       "       [-7.84035344e-01,  9.98566636e-01,  1.67675424e-02,\n",
       "         2.62849138e-01,  1.88287112e+00,  1.46773542e-02,\n",
       "        -1.21889880e+00, -1.27248467e+00],\n",
       "       [-1.97419123e-01, -1.99282446e-01, -5.80914779e-01,\n",
       "         2.62849138e-01,  1.16652472e+00,  6.01212626e-01,\n",
       "        -3.10949685e-17,  7.56622176e-01],\n",
       "       [-7.84035344e-01, -1.40574915e+00, -4.47249090e-01,\n",
       "         2.62849138e-01,  5.95588609e-01,  8.29750018e-01,\n",
       "        -1.21889880e+00, -1.44992420e+00],\n",
       "       [-7.84035344e-01, -2.94076258e-01, -5.03353447e-01,\n",
       "         9.21555410e-01, -1.43059982e-01,  6.77832098e-01,\n",
       "        -1.21889880e+00, -1.13225021e+00],\n",
       "       [ 9.75814021e-01, -1.83124410e-02, -4.46920455e-01,\n",
       "         1.25090855e+00,  4.42784284e-02,  6.95005428e-01,\n",
       "        -1.21889880e+00, -1.34689480e+00],\n",
       "       [-1.66396003e+00,  1.03303711e+00,  6.12995151e-01,\n",
       "        -7.25210271e-01, -3.84815741e-01, -1.19868446e+00,\n",
       "        -3.10949685e-17,  5.47701443e-01],\n",
       "       [ 3.89197449e-01, -1.12136771e+00, -4.97337215e-01,\n",
       "         2.62849138e-01,  9.29229397e-01,  5.33179818e-01,\n",
       "         1.21889880e+00,  3.67399988e-01],\n",
       "       [-1.07734381e+00, -6.99104365e-01,  1.72272357e+00,\n",
       "        -1.38391654e+00, -1.28047176e+00,  2.10652105e+00,\n",
       "        -3.10949685e-17, -3.33772336e-01],\n",
       "       [ 1.26912213e+00, -1.23339676e+00, -5.61456279e-01,\n",
       "         2.62849138e-01, -1.16360828e+00,  3.42291650e-01,\n",
       "        -3.10949685e-17, -1.84952087e-01],\n",
       "       [ 1.26912213e+00, -2.69300603e-02, -1.28206554e-01,\n",
       "        -1.38391654e+00, -5.00787138e-01,  8.77967444e-01,\n",
       "         1.21889880e+00,  4.16052761e-01],\n",
       "       [-1.07734381e+00, -1.58671915e+00, -5.93553661e-01,\n",
       "        -1.05456341e+00,  5.21545332e-01, -2.50188236e-01,\n",
       "        -3.10949685e-17,  7.26214192e-02],\n",
       "       [ 1.56243024e+00,  1.48977094e+00, -3.41613168e-01,\n",
       "        -7.25210271e-01,  1.19953196e+00,  7.80211566e-01,\n",
       "        -3.10949685e-17,  1.12581087e+00],\n",
       "       [-7.84035344e-01, -6.14005375e-02, -4.46920455e-01,\n",
       "         1.25090855e+00,  4.42784284e-02,  6.95005428e-01,\n",
       "         1.21889880e+00,  1.41307688e-01],\n",
       "       [ 9.75814021e-01, -5.35369599e-01,  3.03052619e-01,\n",
       "        -1.05456341e+00, -1.50884621e+00,  9.27505896e-01,\n",
       "         1.21889880e+00,  1.18591135e+00],\n",
       "       [ 9.58893388e-02,  1.27433045e+00, -7.19269031e-01,\n",
       "         1.90961482e+00,  1.14422253e+00,  4.10324458e-01,\n",
       "         1.21889880e+00,  1.05426267e+00],\n",
       "       [ 6.82505559e-01, -1.14722057e+00,  4.67896980e-01,\n",
       "        -3.95857135e-01,  2.83357924e-01, -1.19604241e+00,\n",
       "        -3.10949685e-17,  6.24973495e-01],\n",
       "       [-7.84035344e-01, -1.00072104e+00, -5.06426819e-01,\n",
       "         1.90961482e+00,  1.29141699e+00,  2.14152188e-01,\n",
       "         1.21889880e+00,  4.44672040e-01],\n",
       "       [-1.07734381e+00, -3.55476796e-02,  4.38603464e+00,\n",
       "        -1.05456341e+00, -1.02801095e+00, -3.91141010e+00,\n",
       "        -3.10949685e-17,  1.46065643e+00],\n",
       "       [ 9.75814021e-01, -1.58671915e+00, -5.39933923e-01,\n",
       "         1.58026168e+00, -3.77936373e-02,  6.44145951e-01,\n",
       "         1.21889880e+00,  1.11722509e+00],\n",
       "       [-7.84035344e-01,  1.70521142e+00, -3.63713050e-01,\n",
       "        -7.25210271e-01,  6.26811677e-01, -3.75031486e-02,\n",
       "        -1.21889880e+00, -1.34403287e+00],\n",
       "       [-1.07734381e+00, -2.16517685e-01,  4.16621277e-01,\n",
       "        -3.95857135e-01,  9.60195133e-02, -1.15046704e+00,\n",
       "        -1.21889880e+00, -1.20952226e+00],\n",
       "       [ 1.26912213e+00,  1.19677188e+00, -7.28994112e-01,\n",
       "         1.90961482e+00,  1.14779088e+00,  4.28158300e-01,\n",
       "        -3.10949685e-17,  5.90630360e-01],\n",
       "       [ 6.82505559e-01, -1.47576730e-01,  2.54998738e+00,\n",
       "        -1.38391654e+00, -2.44464617e+00, -2.01904123e+00,\n",
       "        -3.10949685e-17,  1.28894076e+00],\n",
       "       [ 3.89197449e-01, -1.02657390e+00, -5.09222490e-01,\n",
       "         5.92202274e-01, -1.31793944e+00,  1.81787066e-01,\n",
       "        -3.10949685e-17, -1.67780520e-01],\n",
       "       [-1.37065192e+00,  9.38243301e-01, -3.82419098e-01,\n",
       "         1.25090855e+00,  1.07642386e+00,  1.43477329e-01,\n",
       "        -1.21889880e+00, -9.89153814e-01],\n",
       "       [-1.37065192e+00, -1.99282446e-01,  2.53725142e+00,\n",
       "        -1.38391654e+00, -2.31796972e+00, -2.04480122e+00,\n",
       "        -3.10949685e-17,  1.63523403e+00],\n",
       "       [ 9.75814021e-01, -6.38781030e-01,  7.74474734e-01,\n",
       "        -7.25210271e-01, -4.73132420e-01, -1.29908239e+00,\n",
       "        -1.21889880e+00, -1.36979022e+00],\n",
       "       [ 1.26912213e+00, -1.23339676e+00, -7.73135142e-01,\n",
       "         9.21555410e-01, -1.02711886e+00,  1.80466040e-01,\n",
       "        -1.21889880e+00, -1.31255166e+00],\n",
       "       [ 1.26912213e+00, -1.02657390e+00, -7.45082832e-01,\n",
       "         1.58026168e+00,  4.79617212e-01,  5.76113144e-01,\n",
       "        -3.10949685e-17,  4.81877102e-01],\n",
       "       [-1.66396003e+00,  1.38635950e+00, -3.05072150e-01,\n",
       "         9.21555410e-01,  9.25661047e-01,  1.34890664e-01,\n",
       "         1.21889880e+00,  5.33391803e-01],\n",
       "       [-7.84035344e-01,  9.37166098e-02, -5.66658311e-01,\n",
       "         1.58026168e+00,  1.01576190e+00,  3.38989087e-01,\n",
       "        -3.10949685e-17,  8.91132785e-01],\n",
       "       [ 3.89197449e-01,  1.02441949e+00,  2.24291574e-01,\n",
       "        -1.38391654e+00, -1.79520635e+00, -3.19542069e-01,\n",
       "        -1.21889880e+00, -1.07214972e+00],\n",
       "       [-1.97419123e-01, -5.61222457e-01,  3.03052619e-01,\n",
       "        -1.05456341e+00, -1.50884621e+00,  9.27505896e-01,\n",
       "         1.21889880e+00,  1.16587786e+00],\n",
       "       [-1.07734381e+00,  1.42082998e+00, -3.51662426e-01,\n",
       "        -6.65039987e-02,  9.60195133e-02,  7.54451571e-01,\n",
       "        -3.10949685e-17,  1.22884027e+00],\n",
       "       [ 3.89197449e-01, -1.25924962e+00, -5.02873083e-01,\n",
       "         2.62849138e-01,  1.06125837e+00,  6.29614672e-01,\n",
       "        -1.21889880e+00, -1.24672732e+00],\n",
       "       [ 9.58893388e-02,  7.05567580e-01, -4.21233733e-01,\n",
       "         2.62849138e-01,  4.79617212e-01,  2.80863970e-01,\n",
       "         1.21889880e+00,  6.79350124e-01],\n",
       "       [-1.37065192e+00, -4.75046264e-01, -6.12856882e-01,\n",
       "         9.21555410e-01, -2.58139292e-01,  5.67526479e-01,\n",
       "        -3.10949685e-17,  3.04437575e-01],\n",
       "       [-1.97419123e-01, -6.14005375e-02, -1.28206554e-01,\n",
       "        -1.38391654e+00, -5.00787138e-01,  8.77967444e-01,\n",
       "         1.21889880e+00,  2.41475163e-01],\n",
       "       [ 1.26912213e+00,  1.45530046e+00, -3.10767836e-01,\n",
       "         1.25090855e+00,  9.36366099e-01,  1.34890664e-01,\n",
       "         1.21889880e+00, -3.39496191e-01],\n",
       "       [ 9.75814021e-01,  1.86894618e+00, -7.17604226e-01,\n",
       "         1.25090855e+00,  6.59818921e-01,  5.88662885e-01,\n",
       "         1.21889880e+00,  1.20880678e+00],\n",
       "       [-1.97419123e-01, -3.80252451e-01, -4.57479218e-01,\n",
       "        -1.05456341e+00,  5.33142472e-01, -4.67496912e-01,\n",
       "        -1.21889880e+00, -9.97739597e-01],\n",
       "       [-7.84035344e-01, -7.33574843e-01, -5.89295517e-01,\n",
       "         9.21555410e-01,  5.64365540e-01,  7.28691576e-01,\n",
       "        -1.21889880e+00, -1.24672732e+00],\n",
       "       [-1.66396003e+00,  1.29156569e+00, -6.65410804e-01,\n",
       "         5.92202274e-01, -2.59923467e-01,  5.10722387e-01,\n",
       "         1.21889880e+00,  9.08304352e-01],\n",
       "       [ 9.58893388e-02,  2.14363280e-01,  9.84088956e-01,\n",
       "        -3.95857135e-01, -5.11492190e-01, -1.45364236e+00,\n",
       "        -1.21889880e+00, -1.40985721e+00],\n",
       "       [-1.66396003e+00,  9.46860920e-01,  2.90358946e+00,\n",
       "        -1.05456341e+00, -1.75773867e+00, -2.57321138e+00,\n",
       "        -3.10949685e-17,  8.53927723e-01],\n",
       "       [ 1.56243024e+00,  1.17953664e+00,  3.67805592e-01,\n",
       "        -3.95857135e-01,  4.67127984e-01, -1.11479935e+00,\n",
       "        -3.10949685e-17, -3.42358119e-01],\n",
       "       [-1.66396003e+00, -1.31957295e+00, -5.02873083e-01,\n",
       "         2.62849138e-01,  1.06125837e+00,  6.29614672e-01,\n",
       "         1.21889880e+00,  5.84906505e-01],\n",
       "       [-1.97419123e-01,  1.56732951e+00, -4.16230155e-01,\n",
       "         1.25090855e+00,  1.06724565e-01,  6.97647479e-01,\n",
       "        -1.21889880e+00, -1.02063502e+00],\n",
       "       [-7.84035344e-01,  4.20108941e-02,  1.33780000e-02,\n",
       "        -1.38391654e+00, -4.80269122e-01,  9.99501780e-01,\n",
       "        -3.10949685e-17,  6.24973495e-01],\n",
       "       [-1.07734381e+00, -1.15583819e+00, -4.97337215e-01,\n",
       "         2.62849138e-01,  9.29229397e-01,  5.33179818e-01,\n",
       "        -1.21889880e+00, -1.25245118e+00],\n",
       "       [ 6.82505559e-01,  1.61903523e+00, -6.65789300e-01,\n",
       "         1.58026168e+00,  7.20480883e-01,  5.46390072e-01,\n",
       "        -3.10949685e-17,  7.39450609e-01],\n",
       "       [-1.07734381e+00, -2.94076258e-01,  6.89539702e-01,\n",
       "        -7.25210271e-01, -3.84815741e-01, -1.25945163e+00,\n",
       "         1.21889880e+00, -2.53638356e-01],\n",
       "       [ 3.89197449e-01,  1.12783093e+00, -4.77211952e-01,\n",
       "        -6.65039987e-02,  1.16295637e+00,  6.77832098e-01,\n",
       "         1.21889880e+00, -2.53638356e-01],\n",
       "       [ 1.26912213e+00, -1.24201438e+00,  9.52924318e-01,\n",
       "        -3.95857135e-01, -5.32010207e-01, -1.42259827e+00,\n",
       "        -1.21889880e+00, -1.02922080e+00],\n",
       "       [-1.66396003e+00, -9.74868183e-01,  9.75752960e-01,\n",
       "        -3.95857135e-01, -5.26657681e-01, -1.44241365e+00,\n",
       "         1.21889880e+00, -2.87981490e-01],\n",
       "       [-1.07734381e+00, -3.88870071e-01,  2.95594328e+00,\n",
       "        -1.38391654e+00, -1.80947975e+00, -2.59632932e+00,\n",
       "         1.21889880e+00,  7.93827238e-01],\n",
       "       [ 9.75814021e-01, -1.73429588e-01, -5.80914779e-01,\n",
       "         2.62849138e-01,  1.16652472e+00,  6.01212626e-01,\n",
       "        -1.21889880e+00, -1.25531310e+00],\n",
       "       [ 1.26912213e+00, -7.86357761e-02, -2.33451246e-02,\n",
       "        -6.65039987e-02,  1.76333137e+00, -1.76877678e-02,\n",
       "        -3.10949685e-17, -7.51256061e-03],\n",
       "       [ 9.75814021e-01,  1.62657564e-01, -5.82336554e-01,\n",
       "         5.92202274e-01,  1.02289860e+00,  5.21951103e-01,\n",
       "         1.21889880e+00,  1.10863930e+00],\n",
       "       [-7.84035344e-01, -3.19929116e-01,  3.03052619e-01,\n",
       "        -1.05456341e+00, -1.50884621e+00,  9.27505896e-01,\n",
       "         1.21889880e+00,  1.45493257e+00],\n",
       "       [ 9.75814021e-01,  1.03303711e+00, -4.36534636e-01,\n",
       "         5.92202274e-01,  9.53315765e-01,  2.42554233e-01,\n",
       "         1.21889880e+00,  1.07143424e+00],\n",
       "       [ 1.26912213e+00, -1.64811969e-01,  1.06901986e+00,\n",
       "        -3.95857135e-01, -9.01334502e-01, -1.37305981e+00,\n",
       "         1.21889880e+00,  3.58814204e-01],\n",
       "       [ 9.75814021e-01, -1.19892628e+00,  1.05900313e+00,\n",
       "        -3.95857135e-01, -5.18628892e-01, -1.51044645e+00,\n",
       "        -3.10949685e-17,  1.59802896e+00],\n",
       "       [ 1.26912213e+00,  1.71382904e+00, -4.56769940e-01,\n",
       "        -1.38391654e+00,  2.36969365e-01, -9.76161548e-03,\n",
       "        -3.10949685e-17,  6.16387711e-01],\n",
       "       [ 9.75814021e-01,  1.19569468e-01, -2.90927869e-01,\n",
       "         2.62849138e-01,  1.08508741e-01,  7.98705921e-01,\n",
       "        -1.21889880e+00, -1.37837600e+00],\n",
       "       [ 1.26912213e+00, -4.49193406e-01,  1.41829770e-01,\n",
       "        -6.65039987e-02,  2.01668427e+00, -2.09903313e-02,\n",
       "        -1.21889880e+00, -1.19235069e+00],\n",
       "       [ 6.82505559e-01, -1.18169105e+00, -4.99645588e-01,\n",
       "         1.58026168e+00,  1.09069727e+00,  2.31325518e-01,\n",
       "        -1.21889880e+00, -1.11507864e+00],\n",
       "       [-1.97419123e-01, -1.49192534e+00, -6.59949315e-01,\n",
       "         5.92202274e-01, -2.89362360e-01,  4.30139838e-01,\n",
       "         1.21889880e+00,  2.84404080e-01],\n",
       "       [-1.66396003e+00, -1.58671915e+00, -6.66681263e-01,\n",
       "        -1.38391654e+00,  1.91472894e-01, -1.76871327e-01,\n",
       "        -3.10949685e-17, -2.56500284e-01],\n",
       "       [ 6.82505559e-01, -3.11311497e-01, -4.95114778e-01,\n",
       "         5.92202274e-01, -6.45305341e-01,  2.47177822e-01,\n",
       "        -3.10949685e-17,  1.24887377e+00],\n",
       "       [ 1.26912213e+00, -5.26751979e-01,  3.03052619e-01,\n",
       "        -1.05456341e+00, -1.50884621e+00,  9.27505896e-01,\n",
       "        -1.21889880e+00, -1.24958925e+00],\n",
       "       [ 6.82505559e-01, -7.86357761e-02,  2.25046084e-03,\n",
       "        -1.38391654e+00, -5.26657681e-01,  9.75723323e-01,\n",
       "        -3.10949685e-17, -1.90675943e-01],\n",
       "       [-1.07734381e+00,  1.14506616e+00,  1.38357676e-01,\n",
       "        -1.38391654e+00, -1.71937890e+00, -2.83213871e-01,\n",
       "         1.21889880e+00,  3.07299503e-01],\n",
       "       [ 9.58893388e-02,  1.79138761e+00, -4.69150355e-01,\n",
       "         9.21555410e-01,  4.76048861e-01,  3.16531655e-01,\n",
       "        -1.21889880e+00, -1.45564805e+00],\n",
       "       [ 9.75814021e-01, -4.49193406e-01,  5.94038974e-01,\n",
       "        -7.25210271e-01, -4.31204300e-01, -1.16764037e+00,\n",
       "         1.21889880e+00,  1.34904124e+00],\n",
       "       [ 9.75814021e-01, -1.73429588e-01, -4.97953458e-01,\n",
       "         5.92202274e-01, -4.31204300e-01,  5.51674174e-01,\n",
       "        -1.21889880e+00, -1.20952226e+00],\n",
       "       [ 1.26912213e+00, -1.30341492e-01,  2.53725142e+00,\n",
       "        -1.38391654e+00, -2.31796972e+00, -2.04480122e+00,\n",
       "        -1.21889880e+00, -1.13511213e+00],\n",
       "       [ 9.75814021e-01, -9.40397706e-01, -2.91742895e-01,\n",
       "         2.62849138e-01,  3.23501869e-01,  9.09011541e-01,\n",
       "        -3.10949685e-17,  8.31032300e-01],\n",
       "       [-1.07734381e+00, -1.58671915e+00, -6.66681263e-01,\n",
       "        -1.38391654e+00,  1.91472894e-01, -1.76871327e-01,\n",
       "        -1.21889880e+00, -1.04066852e+00],\n",
       "       [-1.37065192e+00, -4.66428644e-01, -4.13413516e-01,\n",
       "         2.62849138e-01, -3.39319270e-01,  1.97639370e-01,\n",
       "         1.21889880e+00, -1.10541963e-01],\n",
       "       [-7.84035344e-01,  8.26214250e-01, -5.12150325e-01,\n",
       "         5.92202274e-01,  8.40912718e-01,  4.49955219e-01,\n",
       "         1.21889880e+00,  1.03709111e+00],\n",
       "       [-4.90727233e-01, -1.30341492e-01, -2.11571940e-02,\n",
       "        -6.65039987e-02,  1.76333137e+00, -1.96693059e-02,\n",
       "        -1.21889880e+00, -1.47568155e+00]])"
      ]
     },
     "execution_count": 30,
     "metadata": {},
     "output_type": "execute_result"
    }
   ],
   "source": [
    "x_test"
   ]
  },
  {
   "cell_type": "code",
   "execution_count": 31,
   "id": "c1ed5560",
   "metadata": {},
   "outputs": [
    {
     "data": {
      "text/plain": [
       "array([[-1.07734381e+00, -6.99104365e-01, -6.45203402e-01,\n",
       "        -1.05456341e+00,  4.65343809e-01, -2.89818997e-01,\n",
       "        -1.21889880e+00, -1.44420034e+00],\n",
       "       [ 6.82505559e-01,  4.81509478e-01,  2.91789389e+00,\n",
       "        -1.38391654e+00, -1.92188280e+00, -2.51640729e+00,\n",
       "        -3.10949685e-17,  1.52648077e+00],\n",
       "       [ 6.82505559e-01,  1.38635950e+00, -5.51512521e-01,\n",
       "         5.92202274e-01,  8.19502614e-01,  4.83641366e-01,\n",
       "        -3.10949685e-17, -1.39161242e-01],\n",
       "       [ 6.82505559e-01,  6.19391387e-01,  2.91129229e+00,\n",
       "        -1.38391654e+00, -1.84605535e+00, -2.54348831e+00,\n",
       "        -1.21889880e+00, -1.43847649e+00],\n",
       "       [ 1.26912213e+00, -3.45781974e-01, -6.79434809e-01,\n",
       "        -1.05456341e+00,  4.22523601e-01, -3.03029251e-01,\n",
       "         1.21889880e+00,  1.07715810e+00],\n",
       "       [-1.97419123e-01,  1.56732951e+00, -4.16230155e-01,\n",
       "         1.25090855e+00,  1.06724565e-01,  6.97647479e-01,\n",
       "        -3.10949685e-17,  6.79350124e-01],\n",
       "       [ 3.89197449e-01,  1.49838856e+00, -6.78815016e-01,\n",
       "         9.21555410e-01, -1.57333385e-01,  5.49032123e-01,\n",
       "        -1.21889880e+00, -1.11221671e+00],\n",
       "       [-1.97419123e-01,  1.41221236e+00, -4.85247627e-01,\n",
       "        -1.05456341e+00,  4.04681847e-01, -4.34477628e-02,\n",
       "        -1.21889880e+00, -1.32399937e+00],\n",
       "       [ 9.75814021e-01, -6.81869127e-01, -5.89295517e-01,\n",
       "         9.21555410e-01,  5.64365540e-01,  7.28691576e-01,\n",
       "         1.21889880e+00,  1.62378632e+00],\n",
       "       [ 9.75814021e-01, -1.04488634e-01, -4.97337215e-01,\n",
       "         2.62849138e-01,  9.29229397e-01,  5.33179818e-01,\n",
       "        -3.10949685e-17, -2.42190644e-01],\n",
       "       [ 3.89197449e-01, -4.40575787e-01, -6.12856882e-01,\n",
       "         9.21555410e-01, -2.58139292e-01,  5.67526479e-01,\n",
       "        -3.10949685e-17,  1.08288195e+00],\n",
       "       [-1.97419123e-01, -4.40575787e-01, -5.42340036e-01,\n",
       "         2.62849138e-01, -9.98572058e-01,  1.46074923e-04,\n",
       "        -3.10949685e-17,  3.35918782e-01],\n",
       "       [-1.07734381e+00, -4.92281502e-01, -6.64986740e-01,\n",
       "        -1.05456341e+00,  4.39473266e-01, -3.01708226e-01,\n",
       "        -1.21889880e+00, -1.12080250e+00],\n",
       "       [-1.97419123e-01,  1.34327141e+00, -6.89650573e-01,\n",
       "         9.21555410e-01, -2.38513363e-01,  5.00814697e-01,\n",
       "         1.21889880e+00,  1.25745955e+00],\n",
       "       [-1.07734381e+00, -1.19030867e+00, -6.05402778e-01,\n",
       "         5.92202274e-01,  6.15214537e-01,  7.12178758e-01,\n",
       "         1.21889880e+00,  7.28002897e-01],\n",
       "       [ 1.56243024e+00,  1.50700617e+00, -3.10910732e-01,\n",
       "        -3.95857135e-01,  7.38322636e-01,  2.17454751e-01,\n",
       "        -3.10949685e-17,  9.54095198e-01],\n",
       "       [ 9.58893388e-02,  1.22262474e+00, -4.12236587e-01,\n",
       "         9.21555410e-01,  6.47964448e-02,  7.16141835e-01,\n",
       "         1.21889880e+00,  5.83117800e-02],\n",
       "       [-1.07734381e+00, -1.58671915e+00, -6.66681263e-01,\n",
       "        -1.38391654e+00,  1.91472894e-01, -1.76871327e-01,\n",
       "         1.21889880e+00,  1.09719159e+00],\n",
       "       [-7.84035344e-01, -4.66428644e-01, -4.13413516e-01,\n",
       "         2.62849138e-01, -3.39319270e-01,  1.97639370e-01,\n",
       "         1.21889880e+00,  6.96521691e-01],\n",
       "       [-7.84035344e-01,  1.41221236e+00, -6.62875994e-01,\n",
       "         1.25090855e+00,  7.24049233e-01,  5.77434169e-01,\n",
       "        -1.21889880e+00, -1.24958925e+00],\n",
       "       [-1.66396003e+00, -1.09551485e+00, -7.45082832e-01,\n",
       "         1.58026168e+00,  4.79617212e-01,  5.76113144e-01,\n",
       "        -1.21889880e+00, -1.24958925e+00],\n",
       "       [ 9.58893388e-02, -5.52604837e-01,  3.03052619e-01,\n",
       "        -1.05456341e+00, -1.50884621e+00,  9.27505896e-01,\n",
       "        -1.21889880e+00, -1.19521262e+00],\n",
       "       [-7.84035344e-01,  9.98566636e-01,  1.67675424e-02,\n",
       "         2.62849138e-01,  1.88287112e+00,  1.46773542e-02,\n",
       "        -1.21889880e+00, -1.27248467e+00],\n",
       "       [-1.97419123e-01, -1.99282446e-01, -5.80914779e-01,\n",
       "         2.62849138e-01,  1.16652472e+00,  6.01212626e-01,\n",
       "        -3.10949685e-17,  7.56622176e-01],\n",
       "       [-7.84035344e-01, -1.40574915e+00, -4.47249090e-01,\n",
       "         2.62849138e-01,  5.95588609e-01,  8.29750018e-01,\n",
       "        -1.21889880e+00, -1.44992420e+00],\n",
       "       [-7.84035344e-01, -2.94076258e-01, -5.03353447e-01,\n",
       "         9.21555410e-01, -1.43059982e-01,  6.77832098e-01,\n",
       "        -1.21889880e+00, -1.13225021e+00],\n",
       "       [ 9.75814021e-01, -1.83124410e-02, -4.46920455e-01,\n",
       "         1.25090855e+00,  4.42784284e-02,  6.95005428e-01,\n",
       "        -1.21889880e+00, -1.34689480e+00],\n",
       "       [-1.66396003e+00,  1.03303711e+00,  6.12995151e-01,\n",
       "        -7.25210271e-01, -3.84815741e-01, -1.19868446e+00,\n",
       "        -3.10949685e-17,  5.47701443e-01],\n",
       "       [ 3.89197449e-01, -1.12136771e+00, -4.97337215e-01,\n",
       "         2.62849138e-01,  9.29229397e-01,  5.33179818e-01,\n",
       "         1.21889880e+00,  3.67399988e-01],\n",
       "       [-1.07734381e+00, -6.99104365e-01,  1.72272357e+00,\n",
       "        -1.38391654e+00, -1.28047176e+00,  2.10652105e+00,\n",
       "        -3.10949685e-17, -3.33772336e-01],\n",
       "       [ 1.26912213e+00, -1.23339676e+00, -5.61456279e-01,\n",
       "         2.62849138e-01, -1.16360828e+00,  3.42291650e-01,\n",
       "        -3.10949685e-17, -1.84952087e-01],\n",
       "       [ 1.26912213e+00, -2.69300603e-02, -1.28206554e-01,\n",
       "        -1.38391654e+00, -5.00787138e-01,  8.77967444e-01,\n",
       "         1.21889880e+00,  4.16052761e-01],\n",
       "       [-1.07734381e+00, -1.58671915e+00, -5.93553661e-01,\n",
       "        -1.05456341e+00,  5.21545332e-01, -2.50188236e-01,\n",
       "        -3.10949685e-17,  7.26214192e-02],\n",
       "       [ 1.56243024e+00,  1.48977094e+00, -3.41613168e-01,\n",
       "        -7.25210271e-01,  1.19953196e+00,  7.80211566e-01,\n",
       "        -3.10949685e-17,  1.12581087e+00],\n",
       "       [-7.84035344e-01, -6.14005375e-02, -4.46920455e-01,\n",
       "         1.25090855e+00,  4.42784284e-02,  6.95005428e-01,\n",
       "         1.21889880e+00,  1.41307688e-01],\n",
       "       [ 9.75814021e-01, -5.35369599e-01,  3.03052619e-01,\n",
       "        -1.05456341e+00, -1.50884621e+00,  9.27505896e-01,\n",
       "         1.21889880e+00,  1.18591135e+00],\n",
       "       [ 9.58893388e-02,  1.27433045e+00, -7.19269031e-01,\n",
       "         1.90961482e+00,  1.14422253e+00,  4.10324458e-01,\n",
       "         1.21889880e+00,  1.05426267e+00],\n",
       "       [ 6.82505559e-01, -1.14722057e+00,  4.67896980e-01,\n",
       "        -3.95857135e-01,  2.83357924e-01, -1.19604241e+00,\n",
       "        -3.10949685e-17,  6.24973495e-01],\n",
       "       [-7.84035344e-01, -1.00072104e+00, -5.06426819e-01,\n",
       "         1.90961482e+00,  1.29141699e+00,  2.14152188e-01,\n",
       "         1.21889880e+00,  4.44672040e-01],\n",
       "       [-1.07734381e+00, -3.55476796e-02,  4.38603464e+00,\n",
       "        -1.05456341e+00, -1.02801095e+00, -3.91141010e+00,\n",
       "        -3.10949685e-17,  1.46065643e+00],\n",
       "       [ 9.75814021e-01, -1.58671915e+00, -5.39933923e-01,\n",
       "         1.58026168e+00, -3.77936373e-02,  6.44145951e-01,\n",
       "         1.21889880e+00,  1.11722509e+00],\n",
       "       [-7.84035344e-01,  1.70521142e+00, -3.63713050e-01,\n",
       "        -7.25210271e-01,  6.26811677e-01, -3.75031486e-02,\n",
       "        -1.21889880e+00, -1.34403287e+00],\n",
       "       [-1.07734381e+00, -2.16517685e-01,  4.16621277e-01,\n",
       "        -3.95857135e-01,  9.60195133e-02, -1.15046704e+00,\n",
       "        -1.21889880e+00, -1.20952226e+00],\n",
       "       [ 1.26912213e+00,  1.19677188e+00, -7.28994112e-01,\n",
       "         1.90961482e+00,  1.14779088e+00,  4.28158300e-01,\n",
       "        -3.10949685e-17,  5.90630360e-01],\n",
       "       [ 6.82505559e-01, -1.47576730e-01,  2.54998738e+00,\n",
       "        -1.38391654e+00, -2.44464617e+00, -2.01904123e+00,\n",
       "        -3.10949685e-17,  1.28894076e+00],\n",
       "       [ 3.89197449e-01, -1.02657390e+00, -5.09222490e-01,\n",
       "         5.92202274e-01, -1.31793944e+00,  1.81787066e-01,\n",
       "        -3.10949685e-17, -1.67780520e-01],\n",
       "       [-1.37065192e+00,  9.38243301e-01, -3.82419098e-01,\n",
       "         1.25090855e+00,  1.07642386e+00,  1.43477329e-01,\n",
       "        -1.21889880e+00, -9.89153814e-01],\n",
       "       [-1.37065192e+00, -1.99282446e-01,  2.53725142e+00,\n",
       "        -1.38391654e+00, -2.31796972e+00, -2.04480122e+00,\n",
       "        -3.10949685e-17,  1.63523403e+00],\n",
       "       [ 9.75814021e-01, -6.38781030e-01,  7.74474734e-01,\n",
       "        -7.25210271e-01, -4.73132420e-01, -1.29908239e+00,\n",
       "        -1.21889880e+00, -1.36979022e+00],\n",
       "       [ 1.26912213e+00, -1.23339676e+00, -7.73135142e-01,\n",
       "         9.21555410e-01, -1.02711886e+00,  1.80466040e-01,\n",
       "        -1.21889880e+00, -1.31255166e+00],\n",
       "       [ 1.26912213e+00, -1.02657390e+00, -7.45082832e-01,\n",
       "         1.58026168e+00,  4.79617212e-01,  5.76113144e-01,\n",
       "        -3.10949685e-17,  4.81877102e-01],\n",
       "       [-1.66396003e+00,  1.38635950e+00, -3.05072150e-01,\n",
       "         9.21555410e-01,  9.25661047e-01,  1.34890664e-01,\n",
       "         1.21889880e+00,  5.33391803e-01],\n",
       "       [-7.84035344e-01,  9.37166098e-02, -5.66658311e-01,\n",
       "         1.58026168e+00,  1.01576190e+00,  3.38989087e-01,\n",
       "        -3.10949685e-17,  8.91132785e-01],\n",
       "       [ 3.89197449e-01,  1.02441949e+00,  2.24291574e-01,\n",
       "        -1.38391654e+00, -1.79520635e+00, -3.19542069e-01,\n",
       "        -1.21889880e+00, -1.07214972e+00],\n",
       "       [-1.97419123e-01, -5.61222457e-01,  3.03052619e-01,\n",
       "        -1.05456341e+00, -1.50884621e+00,  9.27505896e-01,\n",
       "         1.21889880e+00,  1.16587786e+00],\n",
       "       [-1.07734381e+00,  1.42082998e+00, -3.51662426e-01,\n",
       "        -6.65039987e-02,  9.60195133e-02,  7.54451571e-01,\n",
       "        -3.10949685e-17,  1.22884027e+00],\n",
       "       [ 3.89197449e-01, -1.25924962e+00, -5.02873083e-01,\n",
       "         2.62849138e-01,  1.06125837e+00,  6.29614672e-01,\n",
       "        -1.21889880e+00, -1.24672732e+00],\n",
       "       [ 9.58893388e-02,  7.05567580e-01, -4.21233733e-01,\n",
       "         2.62849138e-01,  4.79617212e-01,  2.80863970e-01,\n",
       "         1.21889880e+00,  6.79350124e-01],\n",
       "       [-1.37065192e+00, -4.75046264e-01, -6.12856882e-01,\n",
       "         9.21555410e-01, -2.58139292e-01,  5.67526479e-01,\n",
       "        -3.10949685e-17,  3.04437575e-01],\n",
       "       [-1.97419123e-01, -6.14005375e-02, -1.28206554e-01,\n",
       "        -1.38391654e+00, -5.00787138e-01,  8.77967444e-01,\n",
       "         1.21889880e+00,  2.41475163e-01],\n",
       "       [ 1.26912213e+00,  1.45530046e+00, -3.10767836e-01,\n",
       "         1.25090855e+00,  9.36366099e-01,  1.34890664e-01,\n",
       "         1.21889880e+00, -3.39496191e-01],\n",
       "       [ 9.75814021e-01,  1.86894618e+00, -7.17604226e-01,\n",
       "         1.25090855e+00,  6.59818921e-01,  5.88662885e-01,\n",
       "         1.21889880e+00,  1.20880678e+00],\n",
       "       [-1.97419123e-01, -3.80252451e-01, -4.57479218e-01,\n",
       "        -1.05456341e+00,  5.33142472e-01, -4.67496912e-01,\n",
       "        -1.21889880e+00, -9.97739597e-01],\n",
       "       [-7.84035344e-01, -7.33574843e-01, -5.89295517e-01,\n",
       "         9.21555410e-01,  5.64365540e-01,  7.28691576e-01,\n",
       "        -1.21889880e+00, -1.24672732e+00],\n",
       "       [-1.66396003e+00,  1.29156569e+00, -6.65410804e-01,\n",
       "         5.92202274e-01, -2.59923467e-01,  5.10722387e-01,\n",
       "         1.21889880e+00,  9.08304352e-01],\n",
       "       [ 9.58893388e-02,  2.14363280e-01,  9.84088956e-01,\n",
       "        -3.95857135e-01, -5.11492190e-01, -1.45364236e+00,\n",
       "        -1.21889880e+00, -1.40985721e+00],\n",
       "       [-1.66396003e+00,  9.46860920e-01,  2.90358946e+00,\n",
       "        -1.05456341e+00, -1.75773867e+00, -2.57321138e+00,\n",
       "        -3.10949685e-17,  8.53927723e-01],\n",
       "       [ 1.56243024e+00,  1.17953664e+00,  3.67805592e-01,\n",
       "        -3.95857135e-01,  4.67127984e-01, -1.11479935e+00,\n",
       "        -3.10949685e-17, -3.42358119e-01],\n",
       "       [-1.66396003e+00, -1.31957295e+00, -5.02873083e-01,\n",
       "         2.62849138e-01,  1.06125837e+00,  6.29614672e-01,\n",
       "         1.21889880e+00,  5.84906505e-01],\n",
       "       [-1.97419123e-01,  1.56732951e+00, -4.16230155e-01,\n",
       "         1.25090855e+00,  1.06724565e-01,  6.97647479e-01,\n",
       "        -1.21889880e+00, -1.02063502e+00],\n",
       "       [-7.84035344e-01,  4.20108941e-02,  1.33780000e-02,\n",
       "        -1.38391654e+00, -4.80269122e-01,  9.99501780e-01,\n",
       "        -3.10949685e-17,  6.24973495e-01],\n",
       "       [-1.07734381e+00, -1.15583819e+00, -4.97337215e-01,\n",
       "         2.62849138e-01,  9.29229397e-01,  5.33179818e-01,\n",
       "        -1.21889880e+00, -1.25245118e+00],\n",
       "       [ 6.82505559e-01,  1.61903523e+00, -6.65789300e-01,\n",
       "         1.58026168e+00,  7.20480883e-01,  5.46390072e-01,\n",
       "        -3.10949685e-17,  7.39450609e-01],\n",
       "       [-1.07734381e+00, -2.94076258e-01,  6.89539702e-01,\n",
       "        -7.25210271e-01, -3.84815741e-01, -1.25945163e+00,\n",
       "         1.21889880e+00, -2.53638356e-01],\n",
       "       [ 3.89197449e-01,  1.12783093e+00, -4.77211952e-01,\n",
       "        -6.65039987e-02,  1.16295637e+00,  6.77832098e-01,\n",
       "         1.21889880e+00, -2.53638356e-01],\n",
       "       [ 1.26912213e+00, -1.24201438e+00,  9.52924318e-01,\n",
       "        -3.95857135e-01, -5.32010207e-01, -1.42259827e+00,\n",
       "        -1.21889880e+00, -1.02922080e+00],\n",
       "       [-1.66396003e+00, -9.74868183e-01,  9.75752960e-01,\n",
       "        -3.95857135e-01, -5.26657681e-01, -1.44241365e+00,\n",
       "         1.21889880e+00, -2.87981490e-01],\n",
       "       [-1.07734381e+00, -3.88870071e-01,  2.95594328e+00,\n",
       "        -1.38391654e+00, -1.80947975e+00, -2.59632932e+00,\n",
       "         1.21889880e+00,  7.93827238e-01],\n",
       "       [ 9.75814021e-01, -1.73429588e-01, -5.80914779e-01,\n",
       "         2.62849138e-01,  1.16652472e+00,  6.01212626e-01,\n",
       "        -1.21889880e+00, -1.25531310e+00],\n",
       "       [ 1.26912213e+00, -7.86357761e-02, -2.33451246e-02,\n",
       "        -6.65039987e-02,  1.76333137e+00, -1.76877678e-02,\n",
       "        -3.10949685e-17, -7.51256061e-03],\n",
       "       [ 9.75814021e-01,  1.62657564e-01, -5.82336554e-01,\n",
       "         5.92202274e-01,  1.02289860e+00,  5.21951103e-01,\n",
       "         1.21889880e+00,  1.10863930e+00],\n",
       "       [-7.84035344e-01, -3.19929116e-01,  3.03052619e-01,\n",
       "        -1.05456341e+00, -1.50884621e+00,  9.27505896e-01,\n",
       "         1.21889880e+00,  1.45493257e+00],\n",
       "       [ 9.75814021e-01,  1.03303711e+00, -4.36534636e-01,\n",
       "         5.92202274e-01,  9.53315765e-01,  2.42554233e-01,\n",
       "         1.21889880e+00,  1.07143424e+00],\n",
       "       [ 1.26912213e+00, -1.64811969e-01,  1.06901986e+00,\n",
       "        -3.95857135e-01, -9.01334502e-01, -1.37305981e+00,\n",
       "         1.21889880e+00,  3.58814204e-01],\n",
       "       [ 9.75814021e-01, -1.19892628e+00,  1.05900313e+00,\n",
       "        -3.95857135e-01, -5.18628892e-01, -1.51044645e+00,\n",
       "        -3.10949685e-17,  1.59802896e+00],\n",
       "       [ 1.26912213e+00,  1.71382904e+00, -4.56769940e-01,\n",
       "        -1.38391654e+00,  2.36969365e-01, -9.76161548e-03,\n",
       "        -3.10949685e-17,  6.16387711e-01],\n",
       "       [ 9.75814021e-01,  1.19569468e-01, -2.90927869e-01,\n",
       "         2.62849138e-01,  1.08508741e-01,  7.98705921e-01,\n",
       "        -1.21889880e+00, -1.37837600e+00],\n",
       "       [ 1.26912213e+00, -4.49193406e-01,  1.41829770e-01,\n",
       "        -6.65039987e-02,  2.01668427e+00, -2.09903313e-02,\n",
       "        -1.21889880e+00, -1.19235069e+00],\n",
       "       [ 6.82505559e-01, -1.18169105e+00, -4.99645588e-01,\n",
       "         1.58026168e+00,  1.09069727e+00,  2.31325518e-01,\n",
       "        -1.21889880e+00, -1.11507864e+00],\n",
       "       [-1.97419123e-01, -1.49192534e+00, -6.59949315e-01,\n",
       "         5.92202274e-01, -2.89362360e-01,  4.30139838e-01,\n",
       "         1.21889880e+00,  2.84404080e-01],\n",
       "       [-1.66396003e+00, -1.58671915e+00, -6.66681263e-01,\n",
       "        -1.38391654e+00,  1.91472894e-01, -1.76871327e-01,\n",
       "        -3.10949685e-17, -2.56500284e-01],\n",
       "       [ 6.82505559e-01, -3.11311497e-01, -4.95114778e-01,\n",
       "         5.92202274e-01, -6.45305341e-01,  2.47177822e-01,\n",
       "        -3.10949685e-17,  1.24887377e+00],\n",
       "       [ 1.26912213e+00, -5.26751979e-01,  3.03052619e-01,\n",
       "        -1.05456341e+00, -1.50884621e+00,  9.27505896e-01,\n",
       "        -1.21889880e+00, -1.24958925e+00],\n",
       "       [ 6.82505559e-01, -7.86357761e-02,  2.25046084e-03,\n",
       "        -1.38391654e+00, -5.26657681e-01,  9.75723323e-01,\n",
       "        -3.10949685e-17, -1.90675943e-01],\n",
       "       [-1.07734381e+00,  1.14506616e+00,  1.38357676e-01,\n",
       "        -1.38391654e+00, -1.71937890e+00, -2.83213871e-01,\n",
       "         1.21889880e+00,  3.07299503e-01],\n",
       "       [ 9.58893388e-02,  1.79138761e+00, -4.69150355e-01,\n",
       "         9.21555410e-01,  4.76048861e-01,  3.16531655e-01,\n",
       "        -1.21889880e+00, -1.45564805e+00],\n",
       "       [ 9.75814021e-01, -4.49193406e-01,  5.94038974e-01,\n",
       "        -7.25210271e-01, -4.31204300e-01, -1.16764037e+00,\n",
       "         1.21889880e+00,  1.34904124e+00],\n",
       "       [ 9.75814021e-01, -1.73429588e-01, -4.97953458e-01,\n",
       "         5.92202274e-01, -4.31204300e-01,  5.51674174e-01,\n",
       "        -1.21889880e+00, -1.20952226e+00],\n",
       "       [ 1.26912213e+00, -1.30341492e-01,  2.53725142e+00,\n",
       "        -1.38391654e+00, -2.31796972e+00, -2.04480122e+00,\n",
       "        -1.21889880e+00, -1.13511213e+00],\n",
       "       [ 9.75814021e-01, -9.40397706e-01, -2.91742895e-01,\n",
       "         2.62849138e-01,  3.23501869e-01,  9.09011541e-01,\n",
       "        -3.10949685e-17,  8.31032300e-01],\n",
       "       [-1.07734381e+00, -1.58671915e+00, -6.66681263e-01,\n",
       "        -1.38391654e+00,  1.91472894e-01, -1.76871327e-01,\n",
       "        -1.21889880e+00, -1.04066852e+00],\n",
       "       [-1.37065192e+00, -4.66428644e-01, -4.13413516e-01,\n",
       "         2.62849138e-01, -3.39319270e-01,  1.97639370e-01,\n",
       "         1.21889880e+00, -1.10541963e-01],\n",
       "       [-7.84035344e-01,  8.26214250e-01, -5.12150325e-01,\n",
       "         5.92202274e-01,  8.40912718e-01,  4.49955219e-01,\n",
       "         1.21889880e+00,  1.03709111e+00],\n",
       "       [-4.90727233e-01, -1.30341492e-01, -2.11571940e-02,\n",
       "        -6.65039987e-02,  1.76333137e+00, -1.96693059e-02,\n",
       "        -1.21889880e+00, -1.47568155e+00]])"
      ]
     },
     "execution_count": 31,
     "metadata": {},
     "output_type": "execute_result"
    }
   ],
   "source": [
    "x_test"
   ]
  },
  {
   "cell_type": "code",
   "execution_count": null,
   "id": "44506843",
   "metadata": {},
   "outputs": [],
   "source": []
  },
  {
   "cell_type": "markdown",
   "id": "28638210",
   "metadata": {},
   "source": [
    "## linear Regressin model"
   ]
  },
  {
   "cell_type": "code",
   "execution_count": 32,
   "id": "c8052a16",
   "metadata": {},
   "outputs": [],
   "source": [
    "from sklearn.linear_model import LinearRegression"
   ]
  },
  {
   "cell_type": "code",
   "execution_count": 33,
   "id": "623dcf8c",
   "metadata": {},
   "outputs": [],
   "source": [
    "model1=LinearRegression()\n",
    "model1.fit(x_train, y_train)\n",
    "predictons1=model1.predict(x_train)"
   ]
  },
  {
   "cell_type": "code",
   "execution_count": 34,
   "id": "c1ebabd2",
   "metadata": {},
   "outputs": [
    {
     "data": {
      "text/plain": [
       "0.5802436812443844"
      ]
     },
     "execution_count": 34,
     "metadata": {},
     "output_type": "execute_result"
    }
   ],
   "source": [
    "model1.score(x_train, y_train)"
   ]
  },
  {
   "cell_type": "markdown",
   "id": "b9ccde68",
   "metadata": {},
   "source": [
    "## Random forest model"
   ]
  },
  {
   "cell_type": "code",
   "execution_count": 35,
   "id": "103640c5",
   "metadata": {},
   "outputs": [],
   "source": [
    "from sklearn.ensemble import RandomForestRegressor"
   ]
  },
  {
   "cell_type": "code",
   "execution_count": 36,
   "id": "c8860710",
   "metadata": {},
   "outputs": [],
   "source": [
    "model2 = RandomForestRegressor(n_estimators = 100, random_state = 0)\n",
    "model2.fit(x_train, y_train)\n",
    "prediction2 = model2.predict(x_train)"
   ]
  },
  {
   "cell_type": "code",
   "execution_count": 37,
   "id": "a856528d",
   "metadata": {},
   "outputs": [
    {
     "data": {
      "text/plain": [
       "0.9570460842063554"
      ]
     },
     "execution_count": 37,
     "metadata": {},
     "output_type": "execute_result"
    }
   ],
   "source": [
    "model2.score(x_train, y_train)"
   ]
  },
  {
   "cell_type": "code",
   "execution_count": 38,
   "id": "a65be3f6",
   "metadata": {},
   "outputs": [
    {
     "data": {
      "text/plain": [
       "0.9570460842063554"
      ]
     },
     "execution_count": 38,
     "metadata": {},
     "output_type": "execute_result"
    }
   ],
   "source": [
    "from sklearn.metrics import r2_score\n",
    "r2_score(y_train,prediction2)"
   ]
  },
  {
   "cell_type": "markdown",
   "id": "0c8b9d62",
   "metadata": {},
   "source": [
    "## Decision tree model"
   ]
  },
  {
   "cell_type": "code",
   "execution_count": 39,
   "id": "673b5ad7",
   "metadata": {},
   "outputs": [],
   "source": [
    "from sklearn.tree import DecisionTreeRegressor as DTR"
   ]
  },
  {
   "cell_type": "code",
   "execution_count": 40,
   "id": "a48dad1e",
   "metadata": {},
   "outputs": [],
   "source": [
    "model3=DTR(random_state = 0)\n",
    "model3.fit(x_train, y_train)\n",
    "prediction3 = model3.predict(x_train)"
   ]
  },
  {
   "cell_type": "code",
   "execution_count": 41,
   "id": "e217ad25",
   "metadata": {},
   "outputs": [
    {
     "data": {
      "text/plain": [
       "1.0"
      ]
     },
     "execution_count": 41,
     "metadata": {},
     "output_type": "execute_result"
    }
   ],
   "source": [
    "model3.score(x_train, y_train)"
   ]
  },
  {
   "cell_type": "markdown",
   "id": "f9835f14",
   "metadata": {},
   "source": [
    "**here our model gives 100% accurecy becuse of this model has an issue that is overfitting**\n",
    "\n",
    "**so, to aviod overfitting we use cross validation**"
   ]
  },
  {
   "cell_type": "markdown",
   "id": "8cb799ba",
   "metadata": {},
   "source": [
    "## xgboost model"
   ]
  },
  {
   "cell_type": "code",
   "execution_count": 42,
   "id": "a8d8c05b",
   "metadata": {},
   "outputs": [
    {
     "name": "stdout",
     "output_type": "stream",
     "text": [
      "Requirement already satisfied: xgboost in c:\\users\\acer\\appdata\\local\\programs\\python\\python311\\lib\\site-packages (1.0.1)\n",
      "Requirement already satisfied: numpy in c:\\users\\acer\\appdata\\local\\programs\\python\\python311\\lib\\site-packages (from xgboost) (1.23.5)\n",
      "Requirement already satisfied: scipy in c:\\users\\acer\\appdata\\local\\programs\\python\\python311\\lib\\site-packages (from xgboost) (1.9.3)\n",
      "Note: you may need to restart the kernel to use updated packages.\n"
     ]
    }
   ],
   "source": [
    "pip install xgboost"
   ]
  },
  {
   "cell_type": "code",
   "execution_count": 43,
   "id": "d5e08e84",
   "metadata": {},
   "outputs": [
    {
     "name": "stderr",
     "output_type": "stream",
     "text": [
      "c:\\Users\\Acer\\AppData\\Local\\Programs\\Python\\Python311\\Lib\\site-packages\\xgboost\\compat.py:85: FutureWarning: pandas.Int64Index is deprecated and will be removed from pandas in a future version. Use pandas.Index with the appropriate dtype instead.\n",
      "  from pandas import MultiIndex, Int64Index\n"
     ]
    }
   ],
   "source": [
    "import xgboost as xg"
   ]
  },
  {
   "cell_type": "code",
   "execution_count": 44,
   "id": "d559869e",
   "metadata": {},
   "outputs": [],
   "source": [
    "model4 = xg.XGBRegressor(subsample=0.7, colsample_bytree=0.8, n_estimators = 100, max_depth=6)"
   ]
  },
  {
   "cell_type": "code",
   "execution_count": 45,
   "id": "33be719e",
   "metadata": {},
   "outputs": [
    {
     "data": {
      "text/html": [
       "<style>#sk-container-id-1 {color: black;background-color: white;}#sk-container-id-1 pre{padding: 0;}#sk-container-id-1 div.sk-toggleable {background-color: white;}#sk-container-id-1 label.sk-toggleable__label {cursor: pointer;display: block;width: 100%;margin-bottom: 0;padding: 0.3em;box-sizing: border-box;text-align: center;}#sk-container-id-1 label.sk-toggleable__label-arrow:before {content: \"▸\";float: left;margin-right: 0.25em;color: #696969;}#sk-container-id-1 label.sk-toggleable__label-arrow:hover:before {color: black;}#sk-container-id-1 div.sk-estimator:hover label.sk-toggleable__label-arrow:before {color: black;}#sk-container-id-1 div.sk-toggleable__content {max-height: 0;max-width: 0;overflow: hidden;text-align: left;background-color: #f0f8ff;}#sk-container-id-1 div.sk-toggleable__content pre {margin: 0.2em;color: black;border-radius: 0.25em;background-color: #f0f8ff;}#sk-container-id-1 input.sk-toggleable__control:checked~div.sk-toggleable__content {max-height: 200px;max-width: 100%;overflow: auto;}#sk-container-id-1 input.sk-toggleable__control:checked~label.sk-toggleable__label-arrow:before {content: \"▾\";}#sk-container-id-1 div.sk-estimator input.sk-toggleable__control:checked~label.sk-toggleable__label {background-color: #d4ebff;}#sk-container-id-1 div.sk-label input.sk-toggleable__control:checked~label.sk-toggleable__label {background-color: #d4ebff;}#sk-container-id-1 input.sk-hidden--visually {border: 0;clip: rect(1px 1px 1px 1px);clip: rect(1px, 1px, 1px, 1px);height: 1px;margin: -1px;overflow: hidden;padding: 0;position: absolute;width: 1px;}#sk-container-id-1 div.sk-estimator {font-family: monospace;background-color: #f0f8ff;border: 1px dotted black;border-radius: 0.25em;box-sizing: border-box;margin-bottom: 0.5em;}#sk-container-id-1 div.sk-estimator:hover {background-color: #d4ebff;}#sk-container-id-1 div.sk-parallel-item::after {content: \"\";width: 100%;border-bottom: 1px solid gray;flex-grow: 1;}#sk-container-id-1 div.sk-label:hover label.sk-toggleable__label {background-color: #d4ebff;}#sk-container-id-1 div.sk-serial::before {content: \"\";position: absolute;border-left: 1px solid gray;box-sizing: border-box;top: 0;bottom: 0;left: 50%;z-index: 0;}#sk-container-id-1 div.sk-serial {display: flex;flex-direction: column;align-items: center;background-color: white;padding-right: 0.2em;padding-left: 0.2em;position: relative;}#sk-container-id-1 div.sk-item {position: relative;z-index: 1;}#sk-container-id-1 div.sk-parallel {display: flex;align-items: stretch;justify-content: center;background-color: white;position: relative;}#sk-container-id-1 div.sk-item::before, #sk-container-id-1 div.sk-parallel-item::before {content: \"\";position: absolute;border-left: 1px solid gray;box-sizing: border-box;top: 0;bottom: 0;left: 50%;z-index: -1;}#sk-container-id-1 div.sk-parallel-item {display: flex;flex-direction: column;z-index: 1;position: relative;background-color: white;}#sk-container-id-1 div.sk-parallel-item:first-child::after {align-self: flex-end;width: 50%;}#sk-container-id-1 div.sk-parallel-item:last-child::after {align-self: flex-start;width: 50%;}#sk-container-id-1 div.sk-parallel-item:only-child::after {width: 0;}#sk-container-id-1 div.sk-dashed-wrapped {border: 1px dashed gray;margin: 0 0.4em 0.5em 0.4em;box-sizing: border-box;padding-bottom: 0.4em;background-color: white;}#sk-container-id-1 div.sk-label label {font-family: monospace;font-weight: bold;display: inline-block;line-height: 1.2em;}#sk-container-id-1 div.sk-label-container {text-align: center;}#sk-container-id-1 div.sk-container {/* jupyter's `normalize.less` sets `[hidden] { display: none; }` but bootstrap.min.css set `[hidden] { display: none !important; }` so we also need the `!important` here to be able to override the default hidden behavior on the sphinx rendered scikit-learn.org. See: https://github.com/scikit-learn/scikit-learn/issues/21755 */display: inline-block !important;position: relative;}#sk-container-id-1 div.sk-text-repr-fallback {display: none;}</style><div id=\"sk-container-id-1\" class=\"sk-top-container\"><div class=\"sk-text-repr-fallback\"><pre>XGBRegressor(base_score=0.5, booster=None, colsample_bylevel=1,\n",
       "             colsample_bynode=1, colsample_bytree=0.8, gamma=0, gpu_id=-1,\n",
       "             importance_type=&#x27;gain&#x27;, interaction_constraints=None,\n",
       "             learning_rate=0.300000012, max_delta_step=0, max_depth=6,\n",
       "             min_child_weight=1, missing=nan, monotone_constraints=None,\n",
       "             n_estimators=100, n_jobs=0, num_parallel_tree=1, random_state=0,\n",
       "             reg_alpha=0, reg_lambda=1, scale_pos_weight=1, subsample=0.7,\n",
       "             tree_method=None, validate_parameters=False, verbosity=None)</pre><b>In a Jupyter environment, please rerun this cell to show the HTML representation or trust the notebook. <br />On GitHub, the HTML representation is unable to render, please try loading this page with nbviewer.org.</b></div><div class=\"sk-container\" hidden><div class=\"sk-item\"><div class=\"sk-estimator sk-toggleable\"><input class=\"sk-toggleable__control sk-hidden--visually\" id=\"sk-estimator-id-1\" type=\"checkbox\" checked><label for=\"sk-estimator-id-1\" class=\"sk-toggleable__label sk-toggleable__label-arrow\">XGBRegressor</label><div class=\"sk-toggleable__content\"><pre>XGBRegressor(base_score=0.5, booster=None, colsample_bylevel=1,\n",
       "             colsample_bynode=1, colsample_bytree=0.8, gamma=0, gpu_id=-1,\n",
       "             importance_type=&#x27;gain&#x27;, interaction_constraints=None,\n",
       "             learning_rate=0.300000012, max_delta_step=0, max_depth=6,\n",
       "             min_child_weight=1, missing=nan, monotone_constraints=None,\n",
       "             n_estimators=100, n_jobs=0, num_parallel_tree=1, random_state=0,\n",
       "             reg_alpha=0, reg_lambda=1, scale_pos_weight=1, subsample=0.7,\n",
       "             tree_method=None, validate_parameters=False, verbosity=None)</pre></div></div></div></div></div>"
      ],
      "text/plain": [
       "XGBRegressor(base_score=0.5, booster=None, colsample_bylevel=1,\n",
       "             colsample_bynode=1, colsample_bytree=0.8, gamma=0, gpu_id=-1,\n",
       "             importance_type='gain', interaction_constraints=None,\n",
       "             learning_rate=0.300000012, max_delta_step=0, max_depth=6,\n",
       "             min_child_weight=1, missing=nan, monotone_constraints=None,\n",
       "             n_estimators=100, n_jobs=0, num_parallel_tree=1, random_state=0,\n",
       "             reg_alpha=0, reg_lambda=1, scale_pos_weight=1, subsample=0.7,\n",
       "             tree_method=None, validate_parameters=False, verbosity=None)"
      ]
     },
     "execution_count": 45,
     "metadata": {},
     "output_type": "execute_result"
    }
   ],
   "source": [
    "model4.fit(x_train, y_train)"
   ]
  },
  {
   "cell_type": "code",
   "execution_count": 46,
   "id": "60738b50",
   "metadata": {},
   "outputs": [
    {
     "data": {
      "text/plain": [
       "0.9999823432249062"
      ]
     },
     "execution_count": 46,
     "metadata": {},
     "output_type": "execute_result"
    }
   ],
   "source": [
    "prediction4 = model4.predict(x_train)\n",
    "model4.score(x_train, y_train)"
   ]
  },
  {
   "cell_type": "markdown",
   "id": "c8945d7c",
   "metadata": {},
   "source": [
    "## cross validation"
   ]
  },
  {
   "cell_type": "markdown",
   "id": "169f3553",
   "metadata": {},
   "source": [
    "#### mean accurcy score and standard deviation with cross validatio"
   ]
  },
  {
   "cell_type": "code",
   "execution_count": 47,
   "id": "fe8edb80",
   "metadata": {},
   "outputs": [],
   "source": [
    "from sklearn.model_selection import cross_val_score"
   ]
  },
  {
   "cell_type": "code",
   "execution_count": 48,
   "id": "8551042f",
   "metadata": {},
   "outputs": [],
   "source": [
    "#creating function that will help to fast impliment of cross validation \n",
    "def model(model_name):\n",
    "    scores = cross_val_score(model_name, X=x_train, y= y_train, cv=10)\n",
    "    mean_score= scores.mean()\n",
    "    std_score= scores.std()\n",
    "    return mean_score, std_score"
   ]
  },
  {
   "cell_type": "code",
   "execution_count": 49,
   "id": "0f9c2419",
   "metadata": {},
   "outputs": [
    {
     "name": "stdout",
     "output_type": "stream",
     "text": [
      "0.564835485107232 0.14016191350293297\n"
     ]
    }
   ],
   "source": [
    "#mean accurcy score (mas) and standard davition (std) for model1 (linear regression)\n",
    "mas1, std1 =model(model1)\n",
    "print(mas1, std1)"
   ]
  },
  {
   "cell_type": "code",
   "execution_count": 50,
   "id": "8dfb5b25",
   "metadata": {},
   "outputs": [
    {
     "name": "stdout",
     "output_type": "stream",
     "text": [
      "0.6927691284266444 0.13628771908172396\n"
     ]
    }
   ],
   "source": [
    "#mean accurcy score (mas) and standard davition (std) for model2 (random forest)\n",
    "mas2, std2 =model(model2)\n",
    "print(mas2, std2)"
   ]
  },
  {
   "cell_type": "code",
   "execution_count": 51,
   "id": "be00f512",
   "metadata": {},
   "outputs": [
    {
     "name": "stdout",
     "output_type": "stream",
     "text": [
      "0.4175715971899656 0.27525316415404383\n"
     ]
    }
   ],
   "source": [
    "#mean accurcy score (mas) and standard davition (std) for model3 (decision tree)\n",
    "mas3, std3 =model(model3)\n",
    "print(mas3, std3)"
   ]
  },
  {
   "cell_type": "code",
   "execution_count": 52,
   "id": "c1f19033",
   "metadata": {},
   "outputs": [
    {
     "name": "stdout",
     "output_type": "stream",
     "text": [
      "0.6436643183169968 0.16041021256970545\n"
     ]
    }
   ],
   "source": [
    "#mean accurcy score (mas) and standard davition (std) for model4 (xgboost)\n",
    "mas4, std4 =model(model4)\n",
    "print(mas4, std4)"
   ]
  },
  {
   "cell_type": "markdown",
   "id": "f1604e0e",
   "metadata": {},
   "source": [
    "## compersion of models"
   ]
  },
  {
   "cell_type": "code",
   "execution_count": 53,
   "id": "430724e5",
   "metadata": {},
   "outputs": [
    {
     "data": {
      "text/html": [
       "<div>\n",
       "<style scoped>\n",
       "    .dataframe tbody tr th:only-of-type {\n",
       "        vertical-align: middle;\n",
       "    }\n",
       "\n",
       "    .dataframe tbody tr th {\n",
       "        vertical-align: top;\n",
       "    }\n",
       "\n",
       "    .dataframe thead th {\n",
       "        text-align: right;\n",
       "    }\n",
       "</style>\n",
       "<table border=\"1\" class=\"dataframe\">\n",
       "  <thead>\n",
       "    <tr style=\"text-align: right;\">\n",
       "      <th></th>\n",
       "      <th>models</th>\n",
       "      <th>mean_accurcy_score</th>\n",
       "      <th>standard_daviation</th>\n",
       "    </tr>\n",
       "  </thead>\n",
       "  <tbody>\n",
       "    <tr>\n",
       "      <th>0</th>\n",
       "      <td>Random_Forest</td>\n",
       "      <td>0.692769</td>\n",
       "      <td>0.136288</td>\n",
       "    </tr>\n",
       "    <tr>\n",
       "      <th>1</th>\n",
       "      <td>xgboost</td>\n",
       "      <td>0.643664</td>\n",
       "      <td>0.160410</td>\n",
       "    </tr>\n",
       "    <tr>\n",
       "      <th>2</th>\n",
       "      <td>Linear_Regression</td>\n",
       "      <td>0.564835</td>\n",
       "      <td>0.136288</td>\n",
       "    </tr>\n",
       "    <tr>\n",
       "      <th>3</th>\n",
       "      <td>Decision_Tree</td>\n",
       "      <td>0.417572</td>\n",
       "      <td>0.275253</td>\n",
       "    </tr>\n",
       "  </tbody>\n",
       "</table>\n",
       "</div>"
      ],
      "text/plain": [
       "              models  mean_accurcy_score  standard_daviation\n",
       "0      Random_Forest            0.692769            0.136288\n",
       "1            xgboost            0.643664            0.160410\n",
       "2  Linear_Regression            0.564835            0.136288\n",
       "3      Decision_Tree            0.417572            0.275253"
      ]
     },
     "execution_count": 53,
     "metadata": {},
     "output_type": "execute_result"
    }
   ],
   "source": [
    "models_comp=pd.DataFrame({'models':['Linear_Regression','Random_Forest','Decision_Tree','xgboost'],'mean_accurcy_score':[mas1,mas2,mas3,mas4],'standard_daviation':[std2,std2,std3, std4]})\n",
    "models_comp.sort_values(by='mean_accurcy_score', ascending=False, ignore_index=True)"
   ]
  },
  {
   "cell_type": "markdown",
   "id": "a9052b45",
   "metadata": {},
   "source": [
    "**Random Forest is best model among these models**\n",
    "\n",
    "**Rondom forest model is represented by model2 in this project**"
   ]
  },
  {
   "cell_type": "markdown",
   "id": "1f507536",
   "metadata": {},
   "source": [
    "## practice of model"
   ]
  },
  {
   "cell_type": "code",
   "execution_count": 55,
   "id": "9e6ae50b",
   "metadata": {},
   "outputs": [],
   "source": [
    "some_label=y\n",
    "prepare_data=scalar.fit_transform(x)"
   ]
  },
  {
   "cell_type": "code",
   "execution_count": 56,
   "id": "01bafc20",
   "metadata": {},
   "outputs": [
    {
     "data": {
      "text/plain": [
       "array([42.515, 42.622, 48.258, 49.93 , 51.735, 26.621, 38.302, 47.265,\n",
       "       19.048, 23.262])"
      ]
     },
     "execution_count": 56,
     "metadata": {},
     "output_type": "execute_result"
    }
   ],
   "source": [
    "model2.predict(prepare_data[:10])"
   ]
  },
  {
   "cell_type": "code",
   "execution_count": 57,
   "id": "d9bdc9eb",
   "metadata": {},
   "outputs": [
    {
     "data": {
      "text/plain": [
       "[37.9, 42.2, 47.3, 54.8, 43.1, 32.1, 40.3, 46.7, 18.8, 22.1]"
      ]
     },
     "execution_count": 57,
     "metadata": {},
     "output_type": "execute_result"
    }
   ],
   "source": [
    "list(some_label[:10])"
   ]
  },
  {
   "cell_type": "markdown",
   "id": "66242de1",
   "metadata": {},
   "source": [
    "## pickling the file for deployment"
   ]
  },
  {
   "cell_type": "code",
   "execution_count": 58,
   "id": "6ab15f2a",
   "metadata": {},
   "outputs": [],
   "source": [
    "import pickle"
   ]
  },
  {
   "cell_type": "code",
   "execution_count": 59,
   "id": "bdeb4d41",
   "metadata": {},
   "outputs": [],
   "source": [
    "pickle.dump(model2,open('rfrmodel.pkl','wb'))"
   ]
  },
  {
   "cell_type": "code",
   "execution_count": 60,
   "id": "c213608e",
   "metadata": {},
   "outputs": [],
   "source": [
    "pickled_model=pickle.load(open('rfrmodel.pkl','rb'))"
   ]
  },
  {
   "cell_type": "code",
   "execution_count": 61,
   "id": "79b468e9",
   "metadata": {},
   "outputs": [
    {
     "data": {
      "text/plain": [
       "array([16.917])"
      ]
     },
     "execution_count": 61,
     "metadata": {},
     "output_type": "execute_result"
    }
   ],
   "source": [
    "pickled_model.predict((x_test[1].reshape(1,-1)))"
   ]
  },
  {
   "cell_type": "code",
   "execution_count": 62,
   "id": "df92cdef",
   "metadata": {},
   "outputs": [
    {
     "data": {
      "text/plain": [
       "array([70.33])"
      ]
     },
     "execution_count": 62,
     "metadata": {},
     "output_type": "execute_result"
    }
   ],
   "source": [
    "pickled_model.predict((x_test[0].reshape(1,-1)))"
   ]
  },
  {
   "cell_type": "code",
   "execution_count": 63,
   "id": "2397ee01",
   "metadata": {},
   "outputs": [],
   "source": [
    "scalar=pickle.load(open('scaling.pkl','rb'))"
   ]
  },
  {
   "cell_type": "code",
   "execution_count": 64,
   "id": "a127fa62",
   "metadata": {},
   "outputs": [
    {
     "name": "stderr",
     "output_type": "stream",
     "text": [
      "c:\\Users\\Acer\\AppData\\Local\\Programs\\Python\\Python311\\Lib\\site-packages\\sklearn\\base.py:450: UserWarning: X does not have valid feature names, but StandardScaler was fitted with feature names\n",
      "  warnings.warn(\n"
     ]
    },
    {
     "data": {
      "text/plain": [
       "array([51.842])"
      ]
     },
     "execution_count": 64,
     "metadata": {},
     "output_type": "execute_result"
    }
   ],
   "source": [
    "#inp= 2013.000000,\t12.9,\t187.48230,\t1,\t24.97388,\t121.52981,\t1,\t480\n",
    "inp= 2012.833333,\t5.0,\t390.56840,\t5,\t24.97937,\t121.54245,\t1,\t491\n",
    "new_data=scalar.transform((np.array(list(inp)).reshape(1,-1)))\n",
    "pickled_model.predict(new_data)"
   ]
  },
  {
   "cell_type": "code",
   "execution_count": null,
   "id": "0d85b00f",
   "metadata": {},
   "outputs": [],
   "source": []
  }
 ],
 "metadata": {
  "kernelspec": {
   "display_name": "Python 3.11.0 64-bit",
   "language": "python",
   "name": "python3"
  },
  "language_info": {
   "codemirror_mode": {
    "name": "ipython",
    "version": 3
   },
   "file_extension": ".py",
   "mimetype": "text/x-python",
   "name": "python",
   "nbconvert_exporter": "python",
   "pygments_lexer": "ipython3",
   "version": "3.11.0"
  },
  "vscode": {
   "interpreter": {
    "hash": "6491bbd3c7861498ceca5f810ff495ca48eaaad8857aa8ae48a42dff31e5d8e0"
   }
  }
 },
 "nbformat": 4,
 "nbformat_minor": 5
}
